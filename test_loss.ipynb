{
 "cells": [
  {
   "cell_type": "code",
   "execution_count": 27,
   "id": "4376cd7b",
   "metadata": {},
   "outputs": [
    {
     "name": "stdout",
     "output_type": "stream",
     "text": [
      "Saving to: c:\\Users\\alexh\\Desktop\\cv2\\obb_anns_hausarbeit\\ds2_dense\\ds2_dense\\gt_space.json\n"
     ]
    }
   ],
   "source": [
    "import loss as l\n",
    "from importlib import reload\n",
    "import dataset as d\n",
    "import util\n",
    "import eval\n",
    "import config as c\n",
    "import model as m\n",
    "reload(util)\n",
    "reload(d)\n",
    "reload(l)\n",
    "reload(m)\n",
    "reload(eval)\n",
    "reload(c)\n",
    "\n",
    "de = util.DataExtractor()\n",
    "gt_df = de.croppedData()\n",
    "ds = d.CroppedDummyset(gt_df)\n",
    "m = m.YOLOResNet()\n",
    "loss = l.YOLOv2Loss()"
   ]
  },
  {
   "cell_type": "markdown",
   "id": "bbb93785",
   "metadata": {},
   "source": [
    "# Rudimentary Compatibility"
   ]
  },
  {
   "cell_type": "code",
   "execution_count": 42,
   "id": "d9b529a8",
   "metadata": {},
   "outputs": [
    {
     "name": "stdout",
     "output_type": "stream",
     "text": [
      "tgt.shape: torch.Size([1, 40, 40, 2, 141]), pred.shape: torch.Size([1, 40, 40, 2, 141])\n"
     ]
    }
   ],
   "source": [
    "m.eval()\n",
    "img, tgt = ds[32]\n",
    "tgt = tgt.unsqueeze(0)\n",
    "img = img.unsqueeze(0).unsqueeze(0) # 1, 1, H, W\n",
    "\n",
    "pred = m.forward(img) # 1, N, N, A, 5+C\n",
    "\n",
    "\n",
    "#pred = eval.logit_to_target(pred)\n",
    "\n",
    "print(f\"tgt.shape: {tgt.shape}, pred.shape: {pred.shape}\")\n",
    "assert tgt.shape == pred.shape, \"target and pred shape have to be equal\"\n",
    "\n",
    "singleLoss = loss(pred, tgt)\n"
   ]
  },
  {
   "cell_type": "code",
   "execution_count": 43,
   "id": "013cd775",
   "metadata": {},
   "outputs": [
    {
     "name": "stdout",
     "output_type": "stream",
     "text": [
      "(tensor(1762720.1250, grad_fn=<DivBackward0>), {'total': tensor(1762720.1250), 'l_xy': tensor(1162.8093), 'l_wh': tensor(1751025.2500), 'l_obj': tensor(288.4455), 'l_noobj': tensor(488.2641), 'l_cls': tensor(9755.3408)})\n"
     ]
    }
   ],
   "source": [
    "print(singleLoss)"
   ]
  },
  {
   "cell_type": "code",
   "execution_count": 41,
   "id": "e49ee9e1",
   "metadata": {},
   "outputs": [
    {
     "name": "stdout",
     "output_type": "stream",
     "text": [
      "(tensor(1760511.6250, grad_fn=<DivBackward0>), {'total': tensor(1760511.6250), 'l_xy': tensor(278.2834), 'l_wh': tensor(1751025.2500), 'l_obj': tensor(576.3893), 'l_noobj': tensor(751.3390), 'l_cls': tensor(7880.3350)})\n"
     ]
    }
   ],
   "source": [
    "print(singleLoss)"
   ]
  }
 ],
 "metadata": {
  "kernelspec": {
   "display_name": "Python 3",
   "language": "python",
   "name": "python3"
  },
  "language_info": {
   "codemirror_mode": {
    "name": "ipython",
    "version": 3
   },
   "file_extension": ".py",
   "mimetype": "text/x-python",
   "name": "python",
   "nbconvert_exporter": "python",
   "pygments_lexer": "ipython3",
   "version": "3.10.11"
  }
 },
 "nbformat": 4,
 "nbformat_minor": 5
}
