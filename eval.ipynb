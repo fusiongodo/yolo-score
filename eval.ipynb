{
 "cells": [
  {
   "cell_type": "code",
   "execution_count": 24,
   "id": "56eac542",
   "metadata": {},
   "outputs": [],
   "source": [
    "import torch, numpy as np, config, os\n",
    "from PIL import Image, ImageDraw\n",
    "from loss import _decode_boxes         # already defined in Loss textdoc\n",
    "from loss import _decode_predictions   # same – decodes + score-threshold\n",
    "\n",
    "CELL = 896 // config.S                # = 8 px for S = 112\n",
    "\n",
    "# ----------------------------------------------------------------------\n",
    "# helpers ---------------------------------------------------------------\n",
    "# ----------------------------------------------------------------------\n",
    "# ----------------------------------------------------------\n",
    "def _rel2abs(cx, cy, w, h):\n",
    "    cx, cy, w, h = cx*896, cy*896, w*896, h*896\n",
    "    return [cx - w/2, cy - h/2, cx + w/2, cy + h/2]\n",
    "\n",
    "def _gt_box_from_row(row):\n",
    "    cx = (row['cx'] + row['tx']) / config.S\n",
    "    cy = (row['cy'] + row['ty']) / config.S\n",
    "    w  = np.exp(row['tw']) * config.ANCHORS[0][0]\n",
    "    h  = np.exp(row['th']) * config.ANCHORS[0][1]\n",
    "    return _rel2abs(cx, cy, w, h)\n",
    "\n",
    "# ----------------------------------------------------------\n",
    "def render_prediction(model, gt_df, img_id, score_thresh=0.3, device='cuda'):\n",
    "    \"\"\"Save & return a 896×896 image with GT (green) and preds (red).\"\"\"\n",
    "    ann = gt_df[gt_df.img_id == img_id]\n",
    "    if ann.empty:\n",
    "        raise ValueError(f\"no rows with img_id={img_id}\")\n",
    "\n",
    "    img_path = os.path.join(config.img_dir, ann['filename'].iloc[0])\n",
    "    pil = Image.open(img_path).convert('RGB').resize((896, 896))\n",
    "\n",
    "    # forward pass -----------------------------------------------------\n",
    "    model = model.to(device).eval()\n",
    "    x = (torch.tensor(np.asarray(pil), dtype=torch.float32)\n",
    "            .permute(2,0,1).unsqueeze(0).div_(255).to(device))\n",
    "    with torch.no_grad():\n",
    "        preds = model(x).cpu()\n",
    "    det = _decode_predictions(preds, score_thresh)[0]\n",
    "\n",
    "    # draw -------------------------------------------------------------\n",
    "    draw = ImageDraw.Draw(pil, 'RGBA')\n",
    "\n",
    "    # GT green\n",
    "    for _, row in ann.iterrows():\n",
    "        draw.rectangle(_gt_box_from_row(row), outline=(0,255,0,200), width=2)\n",
    "\n",
    "    #predictions red\n",
    "    for tx, ty, w, h in det['boxes']:\n",
    "        draw.rectangle(_rel2abs(tx, ty, w, h),\n",
    "                       outline=(255,0,0,180), width=2)\n",
    "\n",
    "        # put text at top-left of the box\n",
    "        # x_text, y_text = xy[0] + 2, xy[1] + 2\n",
    "        # score = det['scores'][k].item()\n",
    "        # draw.text((x_text, y_text),\n",
    "        #         f\"{score:.2f}\",          # or f\"{k}\" for box index\n",
    "        #         fill=(255,0,0,255),\n",
    "        #         font=font)\n",
    "\n",
    "    out_path = os.path.join(os.path.dirname(os.path.dirname(img_path)), \"evaluation\", f\"{img_id}_viz.png\")\n",
    "    pil.save(out_path)\n",
    "    print(f\"[render_prediction] saved → {out_path}\")\n",
    "    return pil\n"
   ]
  },
  {
   "cell_type": "markdown",
   "id": "af674a23",
   "metadata": {},
   "source": [
    "## Predictions"
   ]
  },
  {
   "cell_type": "code",
   "execution_count": null,
   "id": "aaef712e",
   "metadata": {},
   "outputs": [
    {
     "name": "stdout",
     "output_type": "stream",
     "text": [
      "Saving to: c:\\Users\\alexh\\Desktop\\cv2\\obb_anns_hausarbeit\\ds2_dense\\ds2_dense\\gt_space.json\n"
     ]
    }
   ],
   "source": [
    "import util\n",
    "import model as m\n",
    "\n",
    "de = util.DataExtractor()\n",
    "anns = de.normalizedData()\n",
    "img_ids = anns[\"img_id\"].unique().tolist()\n"
   ]
  },
  {
   "cell_type": "code",
   "execution_count": null,
   "id": "829a028e",
   "metadata": {},
   "outputs": [
    {
     "name": "stderr",
     "output_type": "stream",
     "text": [
      "c:\\Users\\alexh\\Desktop\\cv2\\obb_anns_hausarbeit\\util.py:148: FutureWarning: You are using `torch.load` with `weights_only=False` (the current default value), which uses the default pickle module implicitly. It is possible to construct malicious pickle data which will execute arbitrary code during unpickling (See https://github.com/pytorch/pytorch/blob/main/SECURITY.md#untrusted-models for more details). In a future release, the default value for `weights_only` will be flipped to `True`. This limits the functions that could be executed during unpickling. Arbitrary objects will no longer be allowed to be loaded via this mode unless they are explicitly allowlisted by the user via `torch.serialization.add_safe_globals`. We recommend you start setting `weights_only=True` for any use case where you don't have full control of the loaded file. Please open an issue on GitHub for any issues related to this experimental feature.\n",
      "  model.load_state_dict(torch.load(path, map_location=device))\n"
     ]
    },
    {
     "name": "stdout",
     "output_type": "stream",
     "text": [
      "[loadMode] Loaded weights from model_dumps\\concorde050.pth\n",
      "[render_prediction] saved → c:\\Users\\alexh\\Desktop\\cv2\\obb_anns_hausarbeit\\ds2_dense\\ds2_dense\\evaluation\\679_viz.png\n"
     ]
    }
   ],
   "source": [
    "model = m.YOLOv2Heavy()\n",
    "model = util.loadModel(\"concord050\", model, device='cuda')\n",
    "_ = render_prediction(model, anns, img_id=img_ids[0], score_thresh=0.5)\n"
   ]
  }
 ],
 "metadata": {
  "kernelspec": {
   "display_name": "Python 3",
   "language": "python",
   "name": "python3"
  },
  "language_info": {
   "codemirror_mode": {
    "name": "ipython",
    "version": 3
   },
   "file_extension": ".py",
   "mimetype": "text/x-python",
   "name": "python",
   "nbconvert_exporter": "python",
   "pygments_lexer": "ipython3",
   "version": "3.10.11"
  }
 },
 "nbformat": 4,
 "nbformat_minor": 5
}
