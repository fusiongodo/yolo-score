{
 "cells": [
  {
   "cell_type": "code",
   "execution_count": 36,
   "id": "363b3542-2492-408c-b446-9667f95b8488",
   "metadata": {},
   "outputs": [],
   "source": [
    "import os\n",
    "import torch\n",
    "import torch.nn as nn\n",
    "import torch.nn.functional as F\n",
    "import config\n",
    "from torch.utils.data import DataLoader\n",
    "import dataset as d\n",
    "from importlib import reload\n",
    "import trainer as t\n",
    "import util \n",
    "import loss as l\n",
    "import model as m\n",
    "\n",
    "reload(util)\n",
    "reload(d)\n",
    "reload(t)\n",
    "reload(l)\n",
    "reload(m)\n",
    "\n",
    "\n",
    "def create_dataloader(dataset, batch_size=4, shuffle=True, num_workers=10):\n",
    "    \"\"\"Return PyTorch DataLoader for the given dataset.\"\"\"\n",
    "    return DataLoader(dataset, batch_size=batch_size, shuffle=shuffle, num_workers=num_workers, pin_memory=True)\n"
   ]
  },
  {
   "cell_type": "code",
   "execution_count": 37,
   "id": "a1436aee-0484-4959-ae54-24d9046f2e9c",
   "metadata": {},
   "outputs": [
    {
     "name": "stdout",
     "output_type": "stream",
     "text": [
      "Saving to: /workspace/mydir/obb_anns_hausarbeit/ds2_dense/ds2_dense/gt_space.json\n"
     ]
    }
   ],
   "source": [
    "de = util.DataExtractor()\n",
    "gt_df = de.normalizedData()"
   ]
  },
  {
   "cell_type": "code",
   "execution_count": null,
   "id": "d280b3e6-a26c-43d5-b7b8-cab4f6b43fd4",
   "metadata": {},
   "outputs": [],
   "source": [
    "model = m.YOLOv2Tiny()\n",
    "modelname = \"myfirst\"\n",
    "model = loadModel(modelname, model, device='cuda')  # load if exists\n",
    "dataset   = d.ObjectDetectionDataset(gt_df, config.img_dir)\n",
    "loader    = create_dataloader(dataset, batch_size=4, num_workers = 16)\n",
    "trainer = Trainer(model, loss_fn, loader, epochs=10, device='cuda')\n",
    "trainer.run()\n",
    "\n",
    "saveModel(modelname, model)  # always save after training"
   ]
  },
  {
   "cell_type": "code",
   "execution_count": 33,
   "id": "52f4c8d2-4dd9-4d68-a174-e78eaaeeedd8",
   "metadata": {
    "scrolled": true
   },
   "outputs": [
    {
     "name": "stdout",
     "output_type": "stream",
     "text": [
      "step 00017 total:55112.4145 l_xy:726.9139 l_wh:17596.7657 l_obj:253.6362 l_noobj:33542.1986 l_cls:2992.9005\n",
      "step 00034 total:51473.7734 l_xy:489.2849 l_wh:15758.2602 l_obj:126.4028 l_noobj:32441.1816 l_cls:2658.6441\n",
      "step 00051 total:49016.4428 l_xy:418.8505 l_wh:14955.3375 l_obj:101.6830 l_noobj:31412.5975 l_cls:2127.9744\n",
      "step 00068 total:47585.8449 l_xy:438.7179 l_wh:14454.7019 l_obj:121.2379 l_noobj:30635.1390 l_cls:1936.0476\n",
      "step 00085 total:44206.7070 l_xy:385.7509 l_wh:12238.5379 l_obj:114.0368 l_noobj:29926.0059 l_cls:1542.3746\n",
      "step 00102 total:45181.7387 l_xy:392.4397 l_wh:13630.9617 l_obj:145.8197 l_noobj:29358.8218 l_cls:1653.6959\n",
      "step 00119 total:43345.0064 l_xy:373.4688 l_wh:12552.0495 l_obj:155.7418 l_noobj:28786.7405 l_cls:1477.0059\n",
      "step 00136 total:44011.0007 l_xy:381.1477 l_wh:13473.1645 l_obj:173.6945 l_noobj:28479.5948 l_cls:1503.3999\n",
      "step 00153 total:43011.7146 l_xy:361.5697 l_wh:12905.5118 l_obj:164.6128 l_noobj:28228.0802 l_cls:1351.9404\n",
      "step 00170 total:44311.6445 l_xy:387.4363 l_wh:14263.3975 l_obj:183.8083 l_noobj:28025.0871 l_cls:1451.9157\n",
      "step 00187 total:45109.8849 l_xy:408.7584 l_wh:15101.2218 l_obj:200.7287 l_noobj:27850.1271 l_cls:1549.0495\n",
      "step 00204 total:40078.3102 l_xy:316.0138 l_wh:10829.4327 l_obj:145.6334 l_noobj:27692.3633 l_cls:1094.8664\n",
      "step 00221 total:43158.0009 l_xy:382.1602 l_wh:13633.8567 l_obj:184.3747 l_noobj:27688.1017 l_cls:1269.5073\n",
      "step 00238 total:43897.2240 l_xy:389.1789 l_wh:14346.9278 l_obj:192.0448 l_noobj:27588.1388 l_cls:1380.9342\n",
      "step 00255 total:42277.3541 l_xy:370.5930 l_wh:13062.7920 l_obj:174.7160 l_noobj:27453.1765 l_cls:1216.0761\n",
      "step 00272 total:42287.1261 l_xy:344.4075 l_wh:13252.7144 l_obj:164.0210 l_noobj:27399.6954 l_cls:1126.2879\n",
      "step 00289 total:44590.5630 l_xy:395.2513 l_wh:15312.6585 l_obj:196.1646 l_noobj:27305.1828 l_cls:1381.3056\n",
      "step 00306 total:41020.2863 l_xy:340.8588 l_wh:12252.0403 l_obj:160.2833 l_noobj:27260.3136 l_cls:1006.7903\n",
      "step 00323 total:40756.4642 l_xy:342.1973 l_wh:11989.8116 l_obj:169.9986 l_noobj:27187.2717 l_cls:1067.1853\n",
      "step 00340 total:41298.7360 l_xy:348.2576 l_wh:12562.0826 l_obj:169.8145 l_noobj:27136.1916 l_cls:1082.3895\n",
      "step 00341 total:43291.9141 l_xy:320.7984 l_wh:14624.1523 l_obj:179.0168 l_noobj:27147.1621 l_cls:1020.7852\n",
      "Epoch 1 finished\n"
     ]
    }
   ],
   "source": [
    "\n",
    "model = m.YOLOv2Tiny()\n",
    "loader    = create_dataloader(dataset, batch_size=4, num_workers = 16)\n",
    "loss_fn   = l.YOLOv2Loss()\n",
    "trainer   = t.Trainer(model, loss_fn, loader, epochs=10, device='cuda')\n",
    "trainer.run()"
   ]
  },
  {
   "cell_type": "code",
   "execution_count": null,
   "id": "850f04e8-d099-4b58-af79-19dca5970dd6",
   "metadata": {},
   "outputs": [],
   "source": [
    "dataset   = d.ObjectDetectionDataset(gt_df, config.img_dir)\n",
    "model = m.YOLOv2Tiny()\n",
    "loader    = create_dataloader(dataset, batch_size=4, num_workers = 16)\n",
    "loss_fn   = l.YOLOv2Loss()\n",
    "trainer   = t.Trainer(model, loss_fn, loader, epochs=10, device='cuda')\n",
    "trainer.run()"
   ]
  }
 ],
 "metadata": {
  "kernelspec": {
   "display_name": "Python 3 (ipykernel)",
   "language": "python",
   "name": "python3"
  },
  "language_info": {
   "codemirror_mode": {
    "name": "ipython",
    "version": 3
   },
   "file_extension": ".py",
   "mimetype": "text/x-python",
   "name": "python",
   "nbconvert_exporter": "python",
   "pygments_lexer": "ipython3",
   "version": "3.10.12"
  }
 },
 "nbformat": 4,
 "nbformat_minor": 5
}
