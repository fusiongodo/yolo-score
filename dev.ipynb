{
 "cells": [
  {
   "cell_type": "code",
   "execution_count": 52,
   "id": "363b3542-2492-408c-b446-9667f95b8488",
   "metadata": {},
   "outputs": [],
   "source": [
    "import os\n",
    "import torch\n",
    "import torch.nn as nn\n",
    "import torch.nn.functional as F\n",
    "import config\n",
    "from torch.utils.data import DataLoader\n",
    "import dataset as d\n",
    "from importlib import reload\n",
    "import trainer as t\n",
    "import util \n",
    "import loss as l\n",
    "import model as m\n",
    "\n",
    "reload(util)\n",
    "reload(d)\n",
    "reload(t)\n",
    "reload(l)\n",
    "reload(m)\n",
    "\n",
    "\n",
    "def create_dataloader(dataset, batch_size=4, shuffle=True, num_workers=10):\n",
    "    \"\"\"Return PyTorch DataLoader for the given dataset.\"\"\"\n",
    "    return DataLoader(dataset, batch_size=batch_size, shuffle=shuffle, num_workers=num_workers, pin_memory=True)\n"
   ]
  },
  {
   "cell_type": "code",
   "execution_count": 37,
   "id": "a1436aee-0484-4959-ae54-24d9046f2e9c",
   "metadata": {},
   "outputs": [
    {
     "name": "stdout",
     "output_type": "stream",
     "text": [
      "Saving to: /workspace/mydir/obb_anns_hausarbeit/ds2_dense/ds2_dense/gt_space.json\n"
     ]
    }
   ],
   "source": [
    "de = util.DataExtractor()\n",
    "gt_df = de.normalizedData()"
   ]
  },
  {
   "cell_type": "code",
   "execution_count": null,
   "id": "b28315f6-008f-458c-bf1c-b786cc85a29d",
   "metadata": {},
   "outputs": [
    {
     "name": "stdout",
     "output_type": "stream",
     "text": [
      "[loadMode] Loaded weights from model_dumps/mythird.pth\n",
      "000034 total:671.5733 l_xy:144.8265 l_wh:98.1067 l_obj:18.3301 l_noobj:263.1686 l_cls:147.1412\n",
      "000068 total:720.5847 l_xy:157.2403 l_wh:108.8344 l_obj:21.3047 l_noobj:263.0385 l_cls:170.1668\n",
      "000102 total:669.3474 l_xy:145.7163 l_wh:95.1843 l_obj:17.2610 l_noobj:263.2251 l_cls:147.9607\n",
      "000136 total:677.6247 l_xy:146.4822 l_wh:92.0711 l_obj:19.4214 l_noobj:263.1518 l_cls:156.4981\n",
      "000170 total:731.3207 l_xy:158.0057 l_wh:103.3833 l_obj:20.6793 l_noobj:262.9312 l_cls:186.3213\n",
      "000204 total:694.8863 l_xy:151.1353 l_wh:102.2518 l_obj:18.9734 l_noobj:263.1442 l_cls:159.3816\n",
      "000238 total:638.6110 l_xy:136.8543 l_wh:92.2370 l_obj:16.5912 l_noobj:263.0399 l_cls:129.8885\n",
      "000272 total:642.3289 l_xy:138.8103 l_wh:95.4202 l_obj:17.1567 l_noobj:262.7913 l_cls:128.1503\n",
      "000306 total:649.2611 l_xy:133.2420 l_wh:98.0331 l_obj:16.1606 l_noobj:262.5821 l_cls:139.2434\n",
      "000340 total:696.0688 l_xy:152.3067 l_wh:99.8141 l_obj:19.4493 l_noobj:262.1683 l_cls:162.3305\n",
      "000341 total:552.6433 l_xy:110.3855 l_wh:87.2323 l_obj:13.0173 l_noobj:262.2455 l_cls:79.7628\n",
      "Epoch 1 avg total:678.7897 l_xy:146.3562 l_wh:98.5005 l_obj:18.5166 l_noobj:262.9221 l_cls:152.4943\n",
      "000375 total:670.5646 l_xy:143.6499 l_wh:99.4084 l_obj:16.7683 l_noobj:262.5999 l_cls:148.1381\n",
      "000409 total:705.9612 l_xy:154.0567 l_wh:104.0289 l_obj:20.0287 l_noobj:262.7126 l_cls:165.1343\n",
      "000443 total:688.2027 l_xy:149.6552 l_wh:98.8546 l_obj:18.8684 l_noobj:262.5700 l_cls:158.2545\n"
     ]
    }
   ],
   "source": [
    "model = m.YOLOv2Tiny()\n",
    "modelname = \"mythird\"\n",
    "model = util.loadModel(modelname, model, device='cuda')\n",
    "\n",
    "dataset = d.ObjectDetectionDataset(gt_df, config.img_dir)\n",
    "loader = create_dataloader(dataset, batch_size=4, num_workers=16)\n",
    "loss_fn = l.YOLOv2Loss(l_noobj = 0.005, l_wh = 0.05)\n",
    "trainer = t.Trainer(model, loss_fn, loader, epochs=10, device='cuda')\n",
    "\n",
    "try:\n",
    "    trainer.run()\n",
    "except KeyboardInterrupt:\n",
    "    print(\"Training interrupted. Saving model...\")\n",
    "\n",
    "util.saveModel(modelname, model)\n"
   ]
  },
  {
   "cell_type": "code",
   "execution_count": 45,
   "id": "262f5623-4f76-4f29-9d5f-56503842a88e",
   "metadata": {},
   "outputs": [
    {
     "name": "stdout",
     "output_type": "stream",
     "text": [
      "[loadMode] No checkpoint found at model_dumps/mysecond.pth — starting fresh\n",
      "step 00017 total:22514.7173 l_xy:588.5753 l_wh:18168.6985 l_obj:390.8917 l_noobj:344.7171 l_cls:3021.8352\n",
      "step 00034 total:20260.8801 l_xy:496.5784 l_wh:16291.4251 l_obj:328.3343 l_noobj:343.1173 l_cls:2801.4252\n",
      "step 00051 total:20274.2609 l_xy:509.5438 l_wh:16738.7811 l_obj:153.8820 l_noobj:340.1066 l_cls:2531.9474\n",
      "step 00068 total:17099.7525 l_xy:449.5083 l_wh:14319.5522 l_obj:85.4881 l_noobj:336.4035 l_cls:1908.8007\n",
      "step 00085 total:17819.9993 l_xy:472.9496 l_wh:15158.8010 l_obj:86.8106 l_noobj:334.9451 l_cls:1766.4929\n",
      "Training interrupted. Saving model...\n",
      "[saveModel] Saved weights to model_dumps/mysecond.pth (device=cuda:0)\n"
     ]
    }
   ],
   "source": [
    "model = m.YOLOv2Tiny()\n",
    "modelname = \"mysecond\"\n",
    "model = util.loadModel(modelname, model, device='cuda')\n",
    "\n",
    "dataset = d.ObjectDetectionDataset(gt_df, config.img_dir)\n",
    "loader = create_dataloader(dataset, batch_size=4, num_workers=16)\n",
    "loss_fn = l.YOLOv2Loss(l_noobj = 0.005)\n",
    "trainer = t.Trainer(model, loss_fn, loader, epochs=10, device='cuda')\n",
    "\n",
    "try:\n",
    "    trainer.run()\n",
    "except KeyboardInterrupt:\n",
    "    print(\"Training interrupted. Saving model...\")\n",
    "\n",
    "util.saveModel(modelname, model)\n"
   ]
  }
 ],
 "metadata": {
  "kernelspec": {
   "display_name": "Python 3 (ipykernel)",
   "language": "python",
   "name": "python3"
  },
  "language_info": {
   "codemirror_mode": {
    "name": "ipython",
    "version": 3
   },
   "file_extension": ".py",
   "mimetype": "text/x-python",
   "name": "python",
   "nbconvert_exporter": "python",
   "pygments_lexer": "ipython3",
   "version": "3.10.12"
  }
 },
 "nbformat": 4,
 "nbformat_minor": 5
}
