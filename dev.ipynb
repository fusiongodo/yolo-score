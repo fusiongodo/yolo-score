{
 "cells": [
  {
   "cell_type": "code",
   "execution_count": null,
   "id": "53593cea",
   "metadata": {},
   "outputs": [
    {
     "name": "stdout",
     "output_type": "stream",
     "text": [
      "Saving to: c:\\Users\\alexh\\Desktop\\cv2\\obb_anns_hausarbeit\\ds2_dense\\ds2_dense\\gt_space.json\n"
     ]
    }
   ],
   "source": [
    "import util\n",
    "import config\n",
    "from importlib import reload\n",
    "\n",
    "\n",
    "reload(util)\n",
    "reload(config)\n",
    "\n",
    "de = util.DataExtractor()\n",
    "\n",
    "data = de.normalizedData()"
   ]
  },
  {
   "cell_type": "code",
   "execution_count": null,
   "id": "4276e37a",
   "metadata": {},
   "outputs": [],
   "source": [
    "import os\n",
    "import torch\n",
    "import torch.nn as nn\n",
    "import torch.nn.functional as F\n",
    "import config\n",
    "from torch.utils.data import DataLoader\n",
    "\n",
    "def create_dataloader(dataset, batch_size=4, shuffle=True, num_workers=2):\n",
    "    \"\"\"Return PyTorch DataLoader for the given dataset.\"\"\"\n",
    "    return DataLoader(dataset, batch_size=batch_size, shuffle=shuffle, num_workers=num_workers, pin_memory=True)\n"
   ]
  },
  {
   "cell_type": "code",
   "execution_count": 13,
   "id": "2ebd738d",
   "metadata": {},
   "outputs": [
    {
     "name": "stdout",
     "output_type": "stream",
     "text": [
      "False\n"
     ]
    }
   ],
   "source": [
    "import os\n",
    "print(os.path.exists(config.img_dir))"
   ]
  },
  {
   "cell_type": "code",
   "execution_count": null,
   "id": "e5ea1924",
   "metadata": {},
   "outputs": [],
   "source": [
    "def create_dataloader(dataset, batch_size=4, shuffle=True, num_workers=2):\n",
    "    \"\"\"Return PyTorch DataLoader for the given dataset.\"\"\"\n",
    "    return DataLoader(dataset, batch_size=batch_size, shuffle=shuffle, num_workers=num_workers, pin_memory=True)"
   ]
  },
  {
   "cell_type": "code",
   "execution_count": 11,
   "id": "6e57f878",
   "metadata": {},
   "outputs": [
    {
     "data": {
      "text/plain": [
       "img_id        int32\n",
       "filename     object\n",
       "cx            int32\n",
       "cy            int32\n",
       "tx          float32\n",
       "ty          float32\n",
       "tw          float32\n",
       "th          float32\n",
       "class_id      int32\n",
       "dtype: object"
      ]
     },
     "execution_count": 11,
     "metadata": {},
     "output_type": "execute_result"
    }
   ],
   "source": [
    "data.dtypes"
   ]
  }
 ],
 "metadata": {
  "kernelspec": {
   "display_name": "Python 3",
   "language": "python",
   "name": "python3"
  },
  "language_info": {
   "codemirror_mode": {
    "name": "ipython",
    "version": 3
   },
   "file_extension": ".py",
   "mimetype": "text/x-python",
   "name": "python",
   "nbconvert_exporter": "python",
   "pygments_lexer": "ipython3",
   "version": "3.10.11"
  }
 },
 "nbformat": 4,
 "nbformat_minor": 5
}
