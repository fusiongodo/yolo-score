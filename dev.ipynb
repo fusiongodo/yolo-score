{
 "cells": [
  {
   "cell_type": "code",
   "execution_count": null,
   "id": "53593cea",
   "metadata": {},
   "outputs": [
    {
     "name": "stdout",
     "output_type": "stream",
     "text": [
      "Saving to: ..\\ds2_dense\\ds2_dense\\train_normalized.json\n"
     ]
    }
   ],
   "source": [
    "import util\n",
    "import config\n",
    "from importlib import reload\n",
    "\n",
    "reload(util)\n",
    "\n",
    "de = util.DataExtractor()\n",
    "\n",
    "data = de.normalizedData()"
   ]
  },
  {
   "cell_type": "code",
   "execution_count": 2,
   "id": "6e57f878",
   "metadata": {},
   "outputs": [
    {
     "data": {
      "text/html": [
       "<div>\n",
       "<style scoped>\n",
       "    .dataframe tbody tr th:only-of-type {\n",
       "        vertical-align: middle;\n",
       "    }\n",
       "\n",
       "    .dataframe tbody tr th {\n",
       "        vertical-align: top;\n",
       "    }\n",
       "\n",
       "    .dataframe thead th {\n",
       "        text-align: right;\n",
       "    }\n",
       "</style>\n",
       "<table border=\"1\" class=\"dataframe\">\n",
       "  <thead>\n",
       "    <tr style=\"text-align: right;\">\n",
       "      <th></th>\n",
       "      <th>img_id</th>\n",
       "      <th>filename</th>\n",
       "      <th>x</th>\n",
       "      <th>y</th>\n",
       "      <th>w</th>\n",
       "      <th>h</th>\n",
       "      <th>class_id</th>\n",
       "    </tr>\n",
       "  </thead>\n",
       "  <tbody>\n",
       "    <tr>\n",
       "      <th>0</th>\n",
       "      <td>679</td>\n",
       "      <td>lg-877777775968732096-aug-gonville--page-3.png</td>\n",
       "      <td>0.500000</td>\n",
       "      <td>0.050160</td>\n",
       "      <td>0.904566</td>\n",
       "      <td>0.019482</td>\n",
       "      <td>135</td>\n",
       "    </tr>\n",
       "    <tr>\n",
       "      <th>1</th>\n",
       "      <td>679</td>\n",
       "      <td>lg-877777775968732096-aug-gonville--page-3.png</td>\n",
       "      <td>0.500000</td>\n",
       "      <td>0.099593</td>\n",
       "      <td>0.904566</td>\n",
       "      <td>0.019482</td>\n",
       "      <td>135</td>\n",
       "    </tr>\n",
       "    <tr>\n",
       "      <th>2</th>\n",
       "      <td>679</td>\n",
       "      <td>lg-877777775968732096-aug-gonville--page-3.png</td>\n",
       "      <td>0.779720</td>\n",
       "      <td>0.163565</td>\n",
       "      <td>0.012752</td>\n",
       "      <td>0.000872</td>\n",
       "      <td>2</td>\n",
       "    </tr>\n",
       "    <tr>\n",
       "      <th>3</th>\n",
       "      <td>679</td>\n",
       "      <td>lg-877777775968732096-aug-gonville--page-3.png</td>\n",
       "      <td>0.780337</td>\n",
       "      <td>0.168363</td>\n",
       "      <td>0.011518</td>\n",
       "      <td>0.000582</td>\n",
       "      <td>2</td>\n",
       "    </tr>\n",
       "    <tr>\n",
       "      <th>4</th>\n",
       "      <td>679</td>\n",
       "      <td>lg-877777775968732096-aug-gonville--page-3.png</td>\n",
       "      <td>0.757713</td>\n",
       "      <td>0.163565</td>\n",
       "      <td>0.012341</td>\n",
       "      <td>0.000872</td>\n",
       "      <td>2</td>\n",
       "    </tr>\n",
       "  </tbody>\n",
       "</table>\n",
       "</div>"
      ],
      "text/plain": [
       "   img_id                                        filename         x         y  \\\n",
       "0     679  lg-877777775968732096-aug-gonville--page-3.png  0.500000  0.050160   \n",
       "1     679  lg-877777775968732096-aug-gonville--page-3.png  0.500000  0.099593   \n",
       "2     679  lg-877777775968732096-aug-gonville--page-3.png  0.779720  0.163565   \n",
       "3     679  lg-877777775968732096-aug-gonville--page-3.png  0.780337  0.168363   \n",
       "4     679  lg-877777775968732096-aug-gonville--page-3.png  0.757713  0.163565   \n",
       "\n",
       "          w         h  class_id  \n",
       "0  0.904566  0.019482       135  \n",
       "1  0.904566  0.019482       135  \n",
       "2  0.012752  0.000872         2  \n",
       "3  0.011518  0.000582         2  \n",
       "4  0.012341  0.000872         2  "
      ]
     },
     "execution_count": 2,
     "metadata": {},
     "output_type": "execute_result"
    }
   ],
   "source": [
    "data.head()"
   ]
  }
 ],
 "metadata": {
  "kernelspec": {
   "display_name": "Python 3",
   "language": "python",
   "name": "python3"
  },
  "language_info": {
   "codemirror_mode": {
    "name": "ipython",
    "version": 3
   },
   "file_extension": ".py",
   "mimetype": "text/x-python",
   "name": "python",
   "nbconvert_exporter": "python",
   "pygments_lexer": "ipython3",
   "version": "3.10.11"
  }
 },
 "nbformat": 4,
 "nbformat_minor": 5
}
