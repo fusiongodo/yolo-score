{
 "cells": [
  {
   "cell_type": "code",
   "execution_count": 4,
   "id": "363b3542-2492-408c-b446-9667f95b8488",
   "metadata": {},
   "outputs": [],
   "source": [
    "import os\n",
    "import torch\n",
    "import torch.nn as nn\n",
    "import torch.nn.functional as F\n",
    "import config\n",
    "from torch.utils.data import DataLoader\n",
    "import dataset as d\n",
    "from importlib import reload\n",
    "import trainer as t\n",
    "import util \n",
    "import loss as l\n",
    "import model as m\n",
    "\n",
    "reload(util)\n",
    "reload(d)\n",
    "reload(t)\n",
    "reload(l)\n",
    "reload(m)\n",
    "\n",
    "\n",
    "def create_dataloader(dataset, batch_size=4, shuffle=True, num_workers=10):\n",
    "    \"\"\"Return PyTorch DataLoader for the given dataset.\"\"\"\n",
    "    return DataLoader(dataset, batch_size=batch_size, shuffle=shuffle, num_workers=num_workers, pin_memory=True)\n"
   ]
  },
  {
   "cell_type": "code",
   "execution_count": 5,
   "id": "a1436aee-0484-4959-ae54-24d9046f2e9c",
   "metadata": {},
   "outputs": [
    {
     "name": "stdout",
     "output_type": "stream",
     "text": [
      "Saving to: /workspace/mydir/obb_anns_hausarbeit/ds2_dense/ds2_dense/gt_space.json\n"
     ]
    }
   ],
   "source": [
    "de = util.DataExtractor()\n",
    "gt_df = de.normalizedData()"
   ]
  },
  {
   "cell_type": "code",
   "execution_count": null,
   "id": "b28315f6-008f-458c-bf1c-b786cc85a29d",
   "metadata": {},
   "outputs": [
    {
     "name": "stdout",
     "output_type": "stream",
     "text": [
      "[loadMode] Loaded weights from model_dumps/heavyA4500_ep2_22062150.pth\n",
      "000170 total:720.3094 l_xy:79.6063 l_wh:81.4814 l_obj:11.4053 l_noobj:515.7544 l_cls:32.0620\n",
      "000340 total:742.9987 l_xy:87.4807 l_wh:91.4167 l_obj:13.0963 l_noobj:514.5363 l_cls:36.4686\n",
      "000341 total:869.8974 l_xy:97.1372 l_wh:196.0178 l_obj:13.8787 l_noobj:516.9821 l_cls:45.8817\n",
      "Epoch 1 avg total:732.0594 l_xy:83.5834 l_wh:86.7704 l_obj:12.2556 l_noobj:515.1507 l_cls:34.2994\n",
      "000511 total:711.9316 l_xy:76.0696 l_wh:85.1568 l_obj:11.1716 l_noobj:513.5156 l_cls:26.0179\n",
      "000681 total:709.9862 l_xy:76.7827 l_wh:82.4071 l_obj:11.2884 l_noobj:512.8214 l_cls:26.6866\n",
      "000682 total:707.7853 l_xy:81.7023 l_wh:76.2858 l_obj:9.9886 l_noobj:512.6688 l_cls:27.1398\n",
      "Epoch 2 avg total:710.9496 l_xy:76.4416 l_wh:83.7600 l_obj:11.2264 l_noobj:513.1671 l_cls:26.3546\n",
      "000852 total:697.3464 l_xy:71.0199 l_wh:82.3794 l_obj:10.8201 l_noobj:511.8162 l_cls:21.3108\n",
      "001022 total:697.7508 l_xy:71.3010 l_wh:80.0254 l_obj:10.5862 l_noobj:511.3723 l_cls:24.4659\n",
      "001023 total:673.6694 l_xy:55.7835 l_wh:82.8444 l_obj:7.6089 l_noobj:509.9035 l_cls:17.5291\n",
      "Epoch 3 avg total:697.4786 l_xy:71.1154 l_wh:81.2072 l_obj:10.6940 l_noobj:511.5893 l_cls:22.8727\n",
      "001193 total:685.5625 l_xy:66.6970 l_wh:78.9554 l_obj:9.9807 l_noobj:510.3822 l_cls:19.5472\n",
      "001363 total:689.2047 l_xy:67.8841 l_wh:78.9078 l_obj:10.3596 l_noobj:509.7706 l_cls:22.2826\n",
      "001364 total:815.1331 l_xy:137.6294 l_wh:103.0367 l_obj:23.5011 l_noobj:507.8602 l_cls:43.1057\n",
      "Epoch 4 avg total:687.7582 l_xy:67.4968 l_wh:79.0023 l_obj:10.2092 l_noobj:510.0699 l_cls:20.9800\n",
      "001534 total:678.3337 l_xy:63.4425 l_wh:78.2777 l_obj:9.7605 l_noobj:508.9211 l_cls:17.9319\n",
      "001704 total:677.8763 l_xy:63.5467 l_wh:75.6625 l_obj:9.9317 l_noobj:508.3892 l_cls:20.3462\n",
      "001705 total:565.4100 l_xy:13.9952 l_wh:34.0868 l_obj:2.9072 l_noobj:508.8948 l_cls:5.5260\n",
      "Epoch 5 avg total:677.7745 l_xy:63.3494 l_wh:76.8444 l_obj:9.8257 l_noobj:508.6559 l_cls:19.0991\n",
      "001875 total:664.7615 l_xy:57.5294 l_wh:74.9547 l_obj:9.0527 l_noobj:507.4368 l_cls:15.7878\n",
      "002045 total:668.6223 l_xy:60.1158 l_wh:73.3237 l_obj:9.3755 l_noobj:506.9996 l_cls:18.8078\n",
      "002046 total:1397.9144 l_xy:266.4723 l_wh:322.4607 l_obj:52.6948 l_noobj:500.3225 l_cls:255.9642\n",
      "Epoch 6 avg total:668.8363 l_xy:59.4316 l_wh:74.8674 l_obj:9.3416 l_noobj:507.1980 l_cls:17.9977\n",
      "002216 total:662.7738 l_xy:56.4110 l_wh:72.6621 l_obj:9.0492 l_noobj:506.3797 l_cls:18.2718\n",
      "002386 total:657.2212 l_xy:55.7653 l_wh:72.3816 l_obj:8.8497 l_noobj:505.3259 l_cls:14.8987\n",
      "002387 total:958.0704 l_xy:166.0073 l_wh:191.9008 l_obj:29.9704 l_noobj:502.3315 l_cls:67.8604\n",
      "Epoch 7 avg total:660.8716 l_xy:56.4105 l_wh:72.8719 l_obj:9.0111 l_noobj:505.8425 l_cls:16.7356\n",
      "002557 total:655.4670 l_xy:53.8700 l_wh:72.1347 l_obj:8.4236 l_noobj:504.6523 l_cls:16.3865\n",
      "002727 total:641.8342 l_xy:49.7339 l_wh:68.2850 l_obj:8.1792 l_noobj:503.9343 l_cls:11.7018\n",
      "002728 total:667.1539 l_xy:54.3726 l_wh:83.6215 l_obj:14.5651 l_noobj:503.7631 l_cls:10.8315\n",
      "Epoch 8 avg total:648.7049 l_xy:51.8095 l_wh:70.2492 l_obj:8.3197 l_noobj:504.2917 l_cls:14.0348\n",
      "002898 total:645.8653 l_xy:50.0627 l_wh:71.1801 l_obj:7.9672 l_noobj:503.0898 l_cls:13.5655\n",
      "003068 total:630.2816 l_xy:45.0986 l_wh:64.9425 l_obj:7.5360 l_noobj:502.5498 l_cls:10.1547\n",
      "003069 total:580.8160 l_xy:24.9643 l_wh:44.3115 l_obj:5.4176 l_noobj:502.9235 l_cls:3.1992\n",
      "Epoch 9 avg total:637.9056 l_xy:47.5143 l_wh:67.9917 l_obj:7.7448 l_noobj:502.8201 l_cls:11.8347\n",
      "003239 total:628.4271 l_xy:43.5716 l_wh:66.4380 l_obj:7.3020 l_noobj:501.5807 l_cls:9.5348\n"
     ]
    }
   ],
   "source": [
    "model = m.YOLOv2Heavy()\n",
    "modelname = \"heavyA4500_ep2_22062150\"\n",
    "model = util.loadModel(modelname, model, device='cuda')\n",
    "\n",
    "dataset = d.ObjectDetectionDataset(gt_df, config.img_dir)\n",
    "loader = create_dataloader(dataset, batch_size=4, num_workers=16)\n",
    "loss_fn = l.YOLOv2Loss(l_noobj = 0.010, l_wh = 0.05)\n",
    "trainer = t.Trainer(model, loss_fn, loader, epochs=125,  modelname=modelname, save_interval=10, device='cuda')\n",
    "\n",
    "try:\n",
    "    trainer.run()\n",
    "except KeyboardInterrupt:\n",
    "    print(\"Training interrupted. Saving model...\")\n",
    "\n",
    "util.saveModel(modelname, model)\n"
   ]
  },
  {
   "cell_type": "code",
   "execution_count": 45,
   "id": "262f5623-4f76-4f29-9d5f-56503842a88e",
   "metadata": {},
   "outputs": [
    {
     "name": "stdout",
     "output_type": "stream",
     "text": [
      "[loadMode] No checkpoint found at model_dumps/mysecond.pth — starting fresh\n",
      "step 00017 total:22514.7173 l_xy:588.5753 l_wh:18168.6985 l_obj:390.8917 l_noobj:344.7171 l_cls:3021.8352\n",
      "step 00034 total:20260.8801 l_xy:496.5784 l_wh:16291.4251 l_obj:328.3343 l_noobj:343.1173 l_cls:2801.4252\n",
      "step 00051 total:20274.2609 l_xy:509.5438 l_wh:16738.7811 l_obj:153.8820 l_noobj:340.1066 l_cls:2531.9474\n",
      "step 00068 total:17099.7525 l_xy:449.5083 l_wh:14319.5522 l_obj:85.4881 l_noobj:336.4035 l_cls:1908.8007\n",
      "step 00085 total:17819.9993 l_xy:472.9496 l_wh:15158.8010 l_obj:86.8106 l_noobj:334.9451 l_cls:1766.4929\n",
      "Training interrupted. Saving model...\n",
      "[saveModel] Saved weights to model_dumps/mysecond.pth (device=cuda:0)\n"
     ]
    }
   ],
   "source": [
    "model = m.YOLOv2Tiny()\n",
    "modelname = \"mysecond\"\n",
    "model = util.loadModel(modelname, model, device='cuda')\n",
    "\n",
    "dataset = d.ObjectDetectionDataset(gt_df, config.img_dir)\n",
    "loader = create_dataloader(dataset, batch_size=4, num_workers=16)\n",
    "loss_fn = l.YOLOv2Loss(l_noobj = 0.005)\n",
    "trainer = t.Trainer(model, loss_fn, loader, epochs=10, device='cuda')\n",
    "\n",
    "try:\n",
    "    trainer.run()\n",
    "except KeyboardInterrupt:\n",
    "    print(\"Training interrupted. Saving model...\")\n",
    "\n",
    "util.saveModel(modelname, model)\n"
   ]
  }
 ],
 "metadata": {
  "kernelspec": {
   "display_name": "Python 3 (ipykernel)",
   "language": "python",
   "name": "python3"
  },
  "language_info": {
   "codemirror_mode": {
    "name": "ipython",
    "version": 3
   },
   "file_extension": ".py",
   "mimetype": "text/x-python",
   "name": "python",
   "nbconvert_exporter": "python",
   "pygments_lexer": "ipython3",
   "version": "3.10.12"
  }
 },
 "nbformat": 4,
 "nbformat_minor": 5
}
