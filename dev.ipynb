{
 "cells": [
  {
   "cell_type": "code",
   "execution_count": 46,
   "id": "ce97687c-e972-45fa-994b-bd8eb40081bd",
   "metadata": {},
   "outputs": [
    {
     "name": "stdout",
     "output_type": "stream",
     "text": [
      "Saving to: /workspace/mydir/obb_anns_hausarbeit/ds2_dense/ds2_dense/gt_space.json\n"
     ]
    }
   ],
   "source": [
    "import os\n",
    "import torch\n",
    "import torch.nn as nn\n",
    "import torch.nn.functional as F\n",
    "import torch\n",
    "import dataset as d\n",
    "from importlib import reload\n",
    "import model as m\n",
    "import trainer as t\n",
    "import util \n",
    "import loss as l\n",
    "import config \n",
    "\n",
    "reload(config)\n",
    "reload(m)\n",
    "reload(d)\n",
    "reload(l)\n",
    "reload(util)\n",
    "reload(t)\n",
    "\n",
    "de = util.DataExtractor()\n",
    "anns = de.normalizedData()\n",
    "\n",
    "\n",
    "dataset = d.ObjectDetectionDataset(anns, config.img_dir)\n",
    "\n",
    "\n"
   ]
  },
  {
   "cell_type": "code",
   "execution_count": 47,
   "id": "26501f14-39dc-4a03-823a-d8aab769f0fd",
   "metadata": {},
   "outputs": [
    {
     "name": "stdout",
     "output_type": "stream",
     "text": [
      "[loadMode] Loaded weights from model_dumps/concorde0.pth\n",
      "mAP@0.5: 0.0041  (evaluated on 48 batch(es))\n",
      "Training interrupted. Saving model...\n",
      "[saveModel] Saved weights to model_dumps/concorde01.pth (device=cuda:0)\n"
     ]
    }
   ],
   "source": [
    "model = m.YOLOv2Heavy()\n",
    "model = util.loadModel(\"concorde0\", model) #0.0122, 0.0059\n",
    "\n",
    "loader = create_dataloader(dataset, batch_size=4, num_workers=10)\n",
    "loss_fn = l.YOLOv2Loss(l_noobj = 0.10, l_wh = 0.5)\n",
    "trainer = t.Trainer(model, loss_fn, anns, loader, epochs=10,  lr=1e-2, modelname=\"concorde01\", save_interval=5, device='cuda')\n",
    "\n",
    "try:\n",
    "    trainer.run()\n",
    "except KeyboardInterrupt:\n",
    "    print(\"Training interrupted. Saving model...\")\n",
    "\n",
    "util.saveModel(\"concorde01\", model)\n"
   ]
  }
 ],
 "metadata": {
  "kernelspec": {
   "display_name": "Python 3 (ipykernel)",
   "language": "python",
   "name": "python3"
  },
  "language_info": {
   "codemirror_mode": {
    "name": "ipython",
    "version": 3
   },
   "file_extension": ".py",
   "mimetype": "text/x-python",
   "name": "python",
   "nbconvert_exporter": "python",
   "pygments_lexer": "ipython3",
   "version": "3.10.12"
  }
 },
 "nbformat": 4,
 "nbformat_minor": 5
}
