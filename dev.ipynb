{
 "cells": [
  {
   "cell_type": "code",
   "execution_count": 4,
   "id": "363b3542-2492-408c-b446-9667f95b8488",
   "metadata": {},
   "outputs": [],
   "source": [
    "import os\n",
    "import torch\n",
    "import torch.nn as nn\n",
    "import torch.nn.functional as F\n",
    "import config\n",
    "from torch.utils.data import DataLoader\n",
    "import dataset as d\n",
    "from importlib import reload\n",
    "import trainer as t\n",
    "import util \n",
    "import loss as l\n",
    "import model as m\n",
    "\n",
    "reload(util)\n",
    "reload(d)\n",
    "reload(t)\n",
    "reload(l)\n",
    "reload(m)\n",
    "\n",
    "\n",
    "def create_dataloader(dataset, batch_size=4, shuffle=True, num_workers=10):\n",
    "    \"\"\"Return PyTorch DataLoader for the given dataset.\"\"\"\n",
    "    return DataLoader(dataset, batch_size=batch_size, shuffle=shuffle, num_workers=num_workers, pin_memory=True)\n"
   ]
  },
  {
   "cell_type": "code",
   "execution_count": 5,
   "id": "a1436aee-0484-4959-ae54-24d9046f2e9c",
   "metadata": {},
   "outputs": [
    {
     "name": "stdout",
     "output_type": "stream",
     "text": [
      "Saving to: /workspace/mydir/obb_anns_hausarbeit/ds2_dense/ds2_dense/gt_space.json\n"
     ]
    }
   ],
   "source": [
    "de = util.DataExtractor()\n",
    "gt_df = de.normalizedData()"
   ]
  },
  {
   "cell_type": "code",
   "execution_count": null,
   "id": "b28315f6-008f-458c-bf1c-b786cc85a29d",
   "metadata": {},
   "outputs": [
    {
     "name": "stdout",
     "output_type": "stream",
     "text": [
      "[loadMode] No checkpoint found at model_dumps/heavyA4500.pth — starting fresh\n",
      "000170 total:1573.9405 l_xy:294.8281 l_wh:131.3484 l_obj:54.5585 l_noobj:306.0336 l_cls:787.1719\n"
     ]
    }
   ],
   "source": [
    "model = m.YOLOv2Heavy()\n",
    "modelname = \"heavyA4500\"\n",
    "model = util.loadModel(modelname, model, device='cuda')\n",
    "\n",
    "dataset = d.ObjectDetectionDataset(gt_df, config.img_dir)\n",
    "loader = create_dataloader(dataset, batch_size=4, num_workers=16)\n",
    "loss_fn = l.YOLOv2Loss(l_noobj = 0.005, l_wh = 0.05)\n",
    "trainer = t.Trainer(model, loss_fn, loader, epochs=10,  modelname=modelname, save_interval=1, device='cuda')\n",
    "\n",
    "try:\n",
    "    trainer.run()\n",
    "except KeyboardInterrupt:\n",
    "    print(\"Training interrupted. Saving model...\")\n",
    "\n",
    "util.saveModel(modelname, model)\n"
   ]
  },
  {
   "cell_type": "code",
   "execution_count": 45,
   "id": "262f5623-4f76-4f29-9d5f-56503842a88e",
   "metadata": {},
   "outputs": [
    {
     "name": "stdout",
     "output_type": "stream",
     "text": [
      "[loadMode] No checkpoint found at model_dumps/mysecond.pth — starting fresh\n",
      "step 00017 total:22514.7173 l_xy:588.5753 l_wh:18168.6985 l_obj:390.8917 l_noobj:344.7171 l_cls:3021.8352\n",
      "step 00034 total:20260.8801 l_xy:496.5784 l_wh:16291.4251 l_obj:328.3343 l_noobj:343.1173 l_cls:2801.4252\n",
      "step 00051 total:20274.2609 l_xy:509.5438 l_wh:16738.7811 l_obj:153.8820 l_noobj:340.1066 l_cls:2531.9474\n",
      "step 00068 total:17099.7525 l_xy:449.5083 l_wh:14319.5522 l_obj:85.4881 l_noobj:336.4035 l_cls:1908.8007\n",
      "step 00085 total:17819.9993 l_xy:472.9496 l_wh:15158.8010 l_obj:86.8106 l_noobj:334.9451 l_cls:1766.4929\n",
      "Training interrupted. Saving model...\n",
      "[saveModel] Saved weights to model_dumps/mysecond.pth (device=cuda:0)\n"
     ]
    }
   ],
   "source": [
    "model = m.YOLOv2Tiny()\n",
    "modelname = \"mysecond\"\n",
    "model = util.loadModel(modelname, model, device='cuda')\n",
    "\n",
    "dataset = d.ObjectDetectionDataset(gt_df, config.img_dir)\n",
    "loader = create_dataloader(dataset, batch_size=4, num_workers=16)\n",
    "loss_fn = l.YOLOv2Loss(l_noobj = 0.005)\n",
    "trainer = t.Trainer(model, loss_fn, loader, epochs=10, device='cuda')\n",
    "\n",
    "try:\n",
    "    trainer.run()\n",
    "except KeyboardInterrupt:\n",
    "    print(\"Training interrupted. Saving model...\")\n",
    "\n",
    "util.saveModel(modelname, model)\n"
   ]
  }
 ],
 "metadata": {
  "kernelspec": {
   "display_name": "Python 3 (ipykernel)",
   "language": "python",
   "name": "python3"
  },
  "language_info": {
   "codemirror_mode": {
    "name": "ipython",
    "version": 3
   },
   "file_extension": ".py",
   "mimetype": "text/x-python",
   "name": "python",
   "nbconvert_exporter": "python",
   "pygments_lexer": "ipython3",
   "version": "3.10.12"
  }
 },
 "nbformat": 4,
 "nbformat_minor": 5
}
