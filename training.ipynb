{
 "cells": [
  {
   "cell_type": "code",
   "execution_count": null,
   "id": "8cb6a460-b912-4c27-ba90-99d4ebe3eff4",
   "metadata": {},
   "outputs": [
    {
     "name": "stdout",
     "output_type": "stream",
     "text": [
      "Saving to: /workspace/mydir/obb_anns_hausarbeit/ds2_dense/ds2_dense/gt_space.json\n",
      "ModelSeries: loadJsonData()\n",
      "lateset checkpoint: 225.pth\n",
      "[loadMode] Loaded weights from /workspace/mydir/obb_anns_hausarbeit/models/60@60@2@720/runpod_oneshot_training2/checkpoints/225.pth\n",
      "Saving to: /workspace/mydir/obb_anns_hausarbeit/ds2_dense/ds2_dense/gt_space.json\n",
      "Load images and targets from /workspace/mydir/obb_anns_hausarbeit/preloaded_data/val/preloaded_dataset.pt\n",
      "dataset.py: All images loaded into RAM within 2.3325 seconds\n",
      " Save Images.\n",
      "Load images and targets from /workspace/mydir/obb_anns_hausarbeit/preloaded_data/train/preloaded_dataset.pt\n"
     ]
    }
   ],
   "source": [
    "import trainer2 as t2\n",
    "import ModelSeries as ms\n",
    "import loss as l\n",
    "import util\n",
    "import model as m\n",
    "import config as c\n",
    "import eval\n",
    "import dataset\n",
    "from importlib import reload\n",
    "reload(dataset)\n",
    "reload(c)\n",
    "reload(t2)\n",
    "reload(m)\n",
    "reload(l)\n",
    "reload(eval)\n",
    "reload(ms)\n",
    "reload(util)\n",
    "\n",
    "gt_df = util.DataExtractor().croppedData()\n",
    "\n",
    "modelseries = ms.ModelSeries(\"runpod_oneshot_training2\", gt_df=gt_df, model_descr=\"YoloResNet@120x40\", mode = \"training\")\n",
    "lc = ms.LearnConfig(c_lr=1.5*1e-3, c_obj = 1.0, c_noobj=0.1, c_xy = 1.0, c_wh = 5.0,  c_cls=3.0, iou_obj = True)\n",
    "\n",
    "\n",
    "trainer = t2.Trainer(modelseries, learn_config = lc, epochs = 80, checkpoint_rate = 5, num_workers = 14, batch_size = 16)\n",
    "\n",
    "try:\n",
    "    trainer.run()\n",
    "except KeyboardInterrupt:\n",
    "    print(\"Training interrupted. Saving model...\")\n",
    "    print(\"training.ipynb - records.head()\", trainer.modelseries.records.head())\n",
    "    trainer.keyboardInterrupt()\n"
   ]
  },
  {
   "cell_type": "code",
   "execution_count": 10,
   "id": "33126637",
   "metadata": {},
   "outputs": [
    {
     "name": "stdout",
     "output_type": "stream",
     "text": [
      "ModelSeries: loadJsonData()\n"
     ]
    }
   ],
   "source": [
    "reload(ms)\n",
    "modelseries = ms.ModelSeries(\"fix_obj_loss\", gt_df=gt_df, model_descr=\"YoloResNet@120x40\")"
   ]
  },
  {
   "cell_type": "code",
   "execution_count": 28,
   "id": "e82aa5ab",
   "metadata": {},
   "outputs": [
    {
     "data": {
      "text/html": [
       "<div>\n",
       "<style scoped>\n",
       "    .dataframe tbody tr th:only-of-type {\n",
       "        vertical-align: middle;\n",
       "    }\n",
       "\n",
       "    .dataframe tbody tr th {\n",
       "        vertical-align: top;\n",
       "    }\n",
       "\n",
       "    .dataframe thead th {\n",
       "        text-align: right;\n",
       "    }\n",
       "</style>\n",
       "<table border=\"1\" class=\"dataframe\">\n",
       "  <thead>\n",
       "    <tr style=\"text-align: right;\">\n",
       "      <th></th>\n",
       "      <th>class_id</th>\n",
       "      <th>class_name</th>\n",
       "      <th>n_occurences</th>\n",
       "      <th>n_images</th>\n",
       "      <th>epoch</th>\n",
       "      <th>mAP</th>\n",
       "      <th>mREC</th>\n",
       "    </tr>\n",
       "  </thead>\n",
       "  <tbody>\n",
       "  </tbody>\n",
       "</table>\n",
       "</div>"
      ],
      "text/plain": [
       "Empty DataFrame\n",
       "Columns: [class_id, class_name, n_occurences, n_images, epoch, mAP, mREC]\n",
       "Index: []"
      ]
     },
     "execution_count": 28,
     "metadata": {},
     "output_type": "execute_result"
    }
   ],
   "source": [
    "reload(ms)\n",
    "series = ms.ModelSeries(\"debug_loss_ModelSeries_EvalRecord\", gt_df=gt_df, model_descr=\"YoloResNet@120x40\")\n",
    "\n",
    "series.eval_records.df.head()\n",
    "\n"
   ]
  },
  {
   "cell_type": "code",
   "execution_count": 6,
   "id": "407101d4",
   "metadata": {},
   "outputs": [
    {
     "name": "stdout",
     "output_type": "stream",
     "text": [
      "Saving to: c:\\Users\\alexh\\Desktop\\cv3\\obb_anns_hausarbeit\\ds2_dense\\ds2_dense\\gt_space.json\n"
     ]
    }
   ],
   "source": [
    "train_data = (trainer.train_dataset.images, trainer.train_dataset.targets)\n",
    "val_data = (trainer.eval_dataset.images, trainer.eval_dataset.targets)\n",
    "trainer2 = t2.Trainer(modelseries, learn_config = lc, epochs = 1, checkpoint_rate = 5, num_workers = 0, batch_size = 8, val_gt = val_data, train_gt = train_data)"
   ]
  },
  {
   "cell_type": "code",
   "execution_count": 7,
   "id": "6a768fb0",
   "metadata": {},
   "outputs": [
    {
     "name": "stdout",
     "output_type": "stream",
     "text": [
      "trainer.run(): Epoch 10\n"
     ]
    },
    {
     "ename": "KeyboardInterrupt",
     "evalue": "",
     "output_type": "error",
     "traceback": [
      "\u001b[1;31m---------------------------------------------------------------------------\u001b[0m",
      "\u001b[1;31mKeyboardInterrupt\u001b[0m                         Traceback (most recent call last)",
      "Cell \u001b[1;32mIn[7], line 1\u001b[0m\n\u001b[1;32m----> 1\u001b[0m \u001b[43mtrainer2\u001b[49m\u001b[38;5;241;43m.\u001b[39;49m\u001b[43mrun\u001b[49m\u001b[43m(\u001b[49m\u001b[43m)\u001b[49m\n",
      "File \u001b[1;32mc:\\Users\\alexh\\Desktop\\cv3\\obb_anns_hausarbeit\\trainer2.py:123\u001b[0m, in \u001b[0;36mTrainer.run\u001b[1;34m(self, num_workers)\u001b[0m\n\u001b[0;32m    121\u001b[0m \u001b[38;5;28;01mfor\u001b[39;00m imgs, targets \u001b[38;5;129;01min\u001b[39;00m \u001b[38;5;28mself\u001b[39m\u001b[38;5;241m.\u001b[39mtrain_loader:\n\u001b[0;32m    122\u001b[0m     imgs \u001b[38;5;241m=\u001b[39m imgs\u001b[38;5;241m.\u001b[39munsqueeze(\u001b[38;5;241m1\u001b[39m) \u001b[38;5;66;03m#in dataset verlegen?\u001b[39;00m\n\u001b[1;32m--> 123\u001b[0m     imgs, targets \u001b[38;5;241m=\u001b[39m \u001b[43mimgs\u001b[49m\u001b[38;5;241;43m.\u001b[39;49m\u001b[43mto\u001b[49m\u001b[43m(\u001b[49m\u001b[38;5;28;43mself\u001b[39;49m\u001b[38;5;241;43m.\u001b[39;49m\u001b[43mdevice\u001b[49m\u001b[43m)\u001b[49m, targets\u001b[38;5;241m.\u001b[39mto(\u001b[38;5;28mself\u001b[39m\u001b[38;5;241m.\u001b[39mdevice)\n\u001b[0;32m    124\u001b[0m     \u001b[38;5;28mself\u001b[39m\u001b[38;5;241m.\u001b[39mopt\u001b[38;5;241m.\u001b[39mzero_grad()\n\u001b[0;32m    125\u001b[0m     loss, loss_dict \u001b[38;5;241m=\u001b[39m \u001b[38;5;28mself\u001b[39m\u001b[38;5;241m.\u001b[39mloss_fn(\u001b[38;5;28mself\u001b[39m\u001b[38;5;241m.\u001b[39mmodel(imgs), targets)\n",
      "\u001b[1;31mKeyboardInterrupt\u001b[0m: "
     ]
    }
   ],
   "source": [
    "trainer2.run()"
   ]
  }
 ],
 "metadata": {
  "kernelspec": {
   "display_name": "Python 3 (ipykernel)",
   "language": "python",
   "name": "python3"
  },
  "language_info": {
   "codemirror_mode": {
    "name": "ipython",
    "version": 3
   },
   "file_extension": ".py",
   "mimetype": "text/x-python",
   "name": "python",
   "nbconvert_exporter": "python",
   "pygments_lexer": "ipython3",
   "version": "3.11.11"
  }
 },
 "nbformat": 4,
 "nbformat_minor": 5
}
