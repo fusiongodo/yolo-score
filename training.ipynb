{
 "cells": [
  {
   "cell_type": "code",
   "execution_count": null,
   "id": "8cb6a460-b912-4c27-ba90-99d4ebe3eff4",
   "metadata": {},
   "outputs": [
    {
     "name": "stdout",
     "output_type": "stream",
     "text": [
      "ModelSeries: loadJsonData()\n",
      "[loadMode] Loaded weights from /workspace/mydir/obb_anns_hausarbeit/models/60@20@2@480/train_with_lr1e-2_tryC/checkpoints/0.pth\n",
      "Saving to: /workspace/mydir/obb_anns_hausarbeit/ds2_dense/ds2_dense/gt_space.json\n",
      "val-dataset created containing 1149 crops\n",
      "train-dataset created containing 9196 crops\n",
      "trainer.run(): Epoch 0\n"
     ]
    }
   ],
   "source": [
    "import trainer2 as t2\n",
    "import ModelSeries as ms\n",
    "import loss as l\n",
    "import util\n",
    "import model as m\n",
    "import dataset\n",
    "from importlib import reload\n",
    "reload(dataset)\n",
    "reload(t2)\n",
    "reload(l)\n",
    "reload(ms)\n",
    "reload(util)\n",
    "\n",
    "modelseries = ms.ModelSeries(\"train_with_lr1e-2_tryC\", model_descr=\"YoloResNet@60x20\", mode = \"training\")\n",
    "lc = ms.LearnConfig(c_lr=1e-2, c_obj = 5.0, c_noobj=0.1, c_xy = 1.0, c_wh = 1.0,  c_cls=1.0)\n",
    "\n",
    "trainer = t2.Trainer(modelseries, learn_config = lc, epochs = 5, checkpoint_rate = 5, num_workers = 14, batch_size = 32)\n",
    "try:\n",
    "    trainer.run()\n",
    "except KeyboardInterrupt:\n",
    "    print(\"Training interrupted. Saving model...\")\n",
    "    print(\"training.ipynb - records.head()\", trainer.modelseries.records.head())\n",
    "    trainer.keyboardInterrupt()\n"
   ]
  },
  {
   "cell_type": "code",
   "execution_count": null,
   "id": "bdb1cd45-bc52-47f8-87da-f0eee3c7ae56",
   "metadata": {},
   "outputs": [],
   "source": []
  }
 ],
 "metadata": {
  "kernelspec": {
   "display_name": "Python 3 (ipykernel)",
   "language": "python",
   "name": "python3"
  },
  "language_info": {
   "codemirror_mode": {
    "name": "ipython",
    "version": 3
   },
   "file_extension": ".py",
   "mimetype": "text/x-python",
   "name": "python",
   "nbconvert_exporter": "python",
   "pygments_lexer": "ipython3",
   "version": "3.11.11"
  }
 },
 "nbformat": 4,
 "nbformat_minor": 5
}
