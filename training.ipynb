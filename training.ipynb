{
 "cells": [
  {
   "cell_type": "code",
   "execution_count": 1,
   "id": "363b3542-2492-408c-b446-9667f95b8488",
   "metadata": {},
   "outputs": [
    {
     "name": "stdout",
     "output_type": "stream",
     "text": [
      "Saving to: c:\\Users\\alexh\\Desktop\\cv2\\obb_anns_hausarbeit\\ds2_dense\\ds2_dense\\gt_space.json\n"
     ]
    }
   ],
   "source": [
    "import os\n",
    "import torch\n",
    "import torch.nn as nn\n",
    "import torch.nn.functional as F\n",
    "import torch\n",
    "from torch.utils.data import DataLoader\n",
    "import dataset as d\n",
    "from importlib import reload\n",
    "import model as m\n",
    "import trainer as t\n",
    "import util \n",
    "import loss as l\n",
    "import config \n",
    "\n",
    "reload(config)\n",
    "reload(m)\n",
    "reload(d)\n",
    "reload(l)\n",
    "reload(util)\n",
    "reload(t)\n",
    "\n",
    "de = util.DataExtractor()\n",
    "anns = de.normalizedData()\n",
    "\n",
    "\n",
    "dataset = d.ObjectDetectionDataset(anns, config.img_dir)\n",
    "\n",
    "\n"
   ]
  },
  {
   "cell_type": "code",
   "execution_count": null,
   "id": "a1436aee-0484-4959-ae54-24d9046f2e9c",
   "metadata": {},
   "outputs": [
    {
     "name": "stdout",
     "output_type": "stream",
     "text": [
      "[loadMode] No checkpoint found at model_dumps\\concorde040.pth — starting fresh\n"
     ]
    },
    {
     "name": "stderr",
     "output_type": "stream",
     "text": [
      "Exception ignored in: <function _MultiProcessingDataLoaderIter.__del__ at 0x000001A4C7DB20E0>\n",
      "Traceback (most recent call last):\n",
      "  File \"C:\\Users\\alexh\\AppData\\Local\\Packages\\PythonSoftwareFoundation.Python.3.10_qbz5n2kfra8p0\\LocalCache\\local-packages\\Python310\\site-packages\\torch\\utils\\data\\dataloader.py\", line 1604, in __del__\n",
      "    self._shutdown_workers()\n",
      "  File \"C:\\Users\\alexh\\AppData\\Local\\Packages\\PythonSoftwareFoundation.Python.3.10_qbz5n2kfra8p0\\LocalCache\\local-packages\\Python310\\site-packages\\torch\\utils\\data\\dataloader.py\", line 1562, in _shutdown_workers\n",
      "    if self._persistent_workers or self._workers_status[worker_id]:\n",
      "AttributeError: '_MultiProcessingDataLoaderIter' object has no attribute '_workers_status'\n"
     ]
    },
    {
     "name": "stdout",
     "output_type": "stream",
     "text": [
      "Training interrupted. Saving model...\n",
      "[saveModel] Saved weights to model_dumps\\concorde050.pth (device=cuda:0)\n"
     ]
    }
   ],
   "source": [
    "model = m.YOLOv2Heavy()\n",
    "model = util.loadModel(\"concorde040\", model) #0.0122, 0.0059   #concorde0->concorde00\n",
    "\n",
    "loader = DataLoader(dataset, batch_size=4, num_workers=14)\n",
    "loss_fn = l.YOLOv2Loss(l_noobj = 0.10, l_wh = 1.0, l_obj = 4.0)\n",
    "trainer = t.Trainer(model, loss_fn, anns, loader, epochs=20,  lr=1e-3, modelname=\"concorde050\", save_interval=5, device='cuda')\n",
    "\n",
    "try:\n",
    "    trainer.run()\n",
    "except KeyboardInterrupt:\n",
    "    print(\"Training interrupted. Saving model...\")\n",
    "\n",
    "util.saveModel(\"concorde050\", model)\n"
   ]
  }
 ],
 "metadata": {
  "kernelspec": {
   "display_name": "Python 3",
   "language": "python",
   "name": "python3"
  },
  "language_info": {
   "codemirror_mode": {
    "name": "ipython",
    "version": 3
   },
   "file_extension": ".py",
   "mimetype": "text/x-python",
   "name": "python",
   "nbconvert_exporter": "python",
   "pygments_lexer": "ipython3",
   "version": "3.10.11"
  }
 },
 "nbformat": 4,
 "nbformat_minor": 5
}
