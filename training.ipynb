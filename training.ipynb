{
 "cells": [
  {
   "cell_type": "markdown",
   "id": "266a1f43",
   "metadata": {},
   "source": [
    "# Training"
   ]
  },
  {
   "cell_type": "code",
   "execution_count": null,
   "id": "8cb6a460-b912-4c27-ba90-99d4ebe3eff4",
   "metadata": {},
   "outputs": [
    {
     "name": "stdout",
     "output_type": "stream",
     "text": [
      "Saving to: /workspace/mydir/obb_anns_hausarbeit/ds2_dense/ds2_dense/gt_space.json\n",
      "ModelSeries: loadJsonData()\n",
      "lateset checkpoint: 225.pth\n",
      "[loadMode] Loaded weights from /workspace/mydir/obb_anns_hausarbeit/models/60@60@2@720/runpod_oneshot_training2/checkpoints/225.pth\n",
      "Saving to: /workspace/mydir/obb_anns_hausarbeit/ds2_dense/ds2_dense/gt_space.json\n",
      "Load images and targets from /workspace/mydir/obb_anns_hausarbeit/preloaded_data/val/preloaded_dataset.pt\n",
      "dataset.py: All images loaded into RAM within 2.3325 seconds\n",
      " Save Images.\n",
      "Load images and targets from /workspace/mydir/obb_anns_hausarbeit/preloaded_data/train/preloaded_dataset.pt\n"
     ]
    }
   ],
   "source": [
    "import trainer2 as t2\n",
    "import ModelSeries as ms\n",
    "import loss as l\n",
    "import util\n",
    "\n",
    "gt_df = util.DataExtractor().croppedData()\n",
    "\n",
    "modelseries = ms.ModelSeries(\"runpod_oneshot_training2\", gt_df=gt_df, model_descr=\"YoloResNet@120x40\", mode = \"training\")\n",
    "lc = ms.LearnConfig(c_lr=1.5*1e-3, c_obj = 1.0, c_noobj=0.1, c_xy = 1.0, c_wh = 5.0,  c_cls=3.0, iou_obj = True)\n",
    "\n",
    "\n",
    "trainer = t2.Trainer(modelseries, learn_config = lc, epochs = 80, checkpoint_rate = 5, num_workers = 14, batch_size = 32)\n",
    "\n",
    "try:\n",
    "    trainer.run()\n",
    "except KeyboardInterrupt:\n",
    "    print(\"Training interrupted. Saving model...\")\n",
    "    print(\"training.ipynb - records.head()\", trainer.modelseries.records.head())\n",
    "    trainer.keyboardInterrupt()\n"
   ]
  }
 ],
 "metadata": {
  "kernelspec": {
   "display_name": "Python 3",
   "language": "python",
   "name": "python3"
  },
  "language_info": {
   "codemirror_mode": {
    "name": "ipython",
    "version": 3
   },
   "file_extension": ".py",
   "mimetype": "text/x-python",
   "name": "python",
   "nbconvert_exporter": "python",
   "pygments_lexer": "ipython3",
   "version": "3.10.11"
  }
 },
 "nbformat": 4,
 "nbformat_minor": 5
}
