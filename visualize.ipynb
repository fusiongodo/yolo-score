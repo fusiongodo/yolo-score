{
 "cells": [
  {
   "cell_type": "markdown",
   "id": "5334af72",
   "metadata": {},
   "source": [
    "# Visualize Predictions, Precision/Recall Curves, Training Loss"
   ]
  },
  {
   "cell_type": "code",
   "execution_count": 1,
   "id": "29e306de",
   "metadata": {},
   "outputs": [],
   "source": [
    "# visualize() renders predictions of crops/images\n",
    "# stores them under models/<S@N@A@RES>/<modelseries name>/playground/<checkpoint>/<conf_tresh>\n",
    "\n",
    "import torch\n",
    "import torchvision.models as models\n",
    "import model as m\n",
    "import dataset as d\n",
    "import eval\n",
    "import util\n",
    "import config as c\n",
    "import ModelSeries as ms\n",
    "from importlib import reload\n",
    "import os\n",
    "reload(eval)\n",
    "reload(util)\n",
    "reload(d)\n",
    "reload(m)\n",
    "reload(ms)\n",
    "\n",
    "def visualize(gt_df, series, conf_thr = 0.1):\n",
    "    eval_dataset = d.CroppedDataset(gt_df, mode = \"val\")\n",
    "    print(f\"debug visualize: len(eval_dataset): {len(eval_dataset)}\")\n",
    "    series.model.eval()\n",
    "    series.model.to(\"cuda\")\n",
    "\n",
    "    \n",
    "    dir = os.path.join(series.series_dir, \"playground\", f\"{series.getEpoch()}\")\n",
    "    os.makedirs(dir, exist_ok=True)\n",
    "\n",
    "    for i in range(20):\n",
    "        idx = i * 200\n",
    "        try:\n",
    "            image, target = eval_dataset[idx % len(eval_dataset)]\n",
    "            image, target = image.to(\"cuda\"), target.to(\"cuda\")\n",
    "        except Exception:\n",
    "            print(\"error loading the image\")\n",
    "            print(f\"type image, target: {type(image), type(target)}\")\n",
    "            continue\n",
    "        \n",
    "\n",
    "        with torch.no_grad():\n",
    "            pred = series.model(image.unsqueeze(0))  # [1, 1, H, W] -> model -> [1, N, N, A, 5+C]\n",
    "            pred = pred.squeeze(0)  # [N, N, A, 5+C]\n",
    "\n",
    "        pred = eval.logit_to_target(pred)\n",
    "\n",
    "        iou = eval.pred_to_iou(pred, target)\n",
    "        tp_mask, fp_mask, fn_mask, tgt_conf, pred_cls, tgt_cls = eval.calc_masks(pred, target, iou, conf_thr=conf_thr)\n",
    "        precision, recall = eval.unit_precision_recall(tp_mask, fp_mask, fn_mask)\n",
    "        \n",
    "\n",
    "        prec = f\"{precision:.4f}\"\n",
    "        rec = f\"{recall:.4f}\"\n",
    "        util.render_prediction(image, pred, iou, out_dir = os.path.join(dir, f\"{conf_thr}\"), name = f\"crop_{i}_{prec}_{rec}.png\", obj_thresh=conf_thr)\n",
    "    print(f\"Visualization saved to {dir}\")"
   ]
  },
  {
   "cell_type": "code",
   "execution_count": null,
   "id": "76435df3",
   "metadata": {},
   "outputs": [
    {
     "name": "stdout",
     "output_type": "stream",
     "text": [
      "Saving to: c:\\Users\\alexh\\Desktop\\ComputerVision\\Hausarbeit\\obb_anns_hausarbeit\\ds2_dense\\ds2_dense\\gt_space.json\n",
      "ModelSeries: loadJsonData()\n",
      "Found file: c:\\Users\\alexh\\Desktop\\ComputerVision\\Hausarbeit\\obb_anns_hausarbeit\\demo\\images\\aug-emmentaler.png  (381600 bytes)\n",
      "image.shape: (1, 1, 720, 720)\n"
     ]
    },
    {
     "ename": "TypeError",
     "evalue": "render_prediction() got an unexpected keyword argument 'pred'",
     "output_type": "error",
     "traceback": [
      "\u001b[31m---------------------------------------------------------------------------\u001b[39m",
      "\u001b[31mTypeError\u001b[39m                                 Traceback (most recent call last)",
      "\u001b[36mCell\u001b[39m\u001b[36m \u001b[39m\u001b[32mIn[12]\u001b[39m\u001b[32m, line 45\u001b[39m\n\u001b[32m     42\u001b[39m     \u001b[38;5;28mprint\u001b[39m(\u001b[33mf\u001b[39m\u001b[33m\"\u001b[39m\u001b[33mSaved visualization → \u001b[39m\u001b[38;5;132;01m{\u001b[39;00mout_dir\u001b[38;5;132;01m}\u001b[39;00m\u001b[33m\"\u001b[39m)\n\u001b[32m     44\u001b[39m series = ms.ModelSeries(name = \u001b[33m\"\u001b[39m\u001b[33mrunpod_oneshot_training2\u001b[39m\u001b[33m\"\u001b[39m, gt_df = gt_df, mode=\u001b[33m\"\u001b[39m\u001b[33m\"\u001b[39m)\n\u001b[32m---> \u001b[39m\u001b[32m45\u001b[39m \u001b[43mdemo\u001b[49m\u001b[43m(\u001b[49m\u001b[43mseries\u001b[49m\u001b[43m,\u001b[49m\u001b[43m \u001b[49m\u001b[33;43mr\u001b[39;49m\u001b[33;43m\"\u001b[39;49m\u001b[33;43mimages\u001b[39;49m\u001b[33;43m\\\u001b[39;49m\u001b[33;43maug-emmentaler.png\u001b[39;49m\u001b[33;43m\"\u001b[39;49m\u001b[43m,\u001b[49m\u001b[43m \u001b[49m\u001b[43mconf_thr\u001b[49m\u001b[43m=\u001b[49m\u001b[32;43m0.1\u001b[39;49m\u001b[43m)\u001b[49m\n",
      "\u001b[36mCell\u001b[39m\u001b[36m \u001b[39m\u001b[32mIn[12]\u001b[39m\u001b[32m, line 35\u001b[39m, in \u001b[36mdemo\u001b[39m\u001b[34m(series, filepath, conf_thr)\u001b[39m\n\u001b[32m     32\u001b[39m os.makedirs(out_dir, exist_ok=\u001b[38;5;28;01mTrue\u001b[39;00m)\n\u001b[32m     34\u001b[39m \u001b[38;5;66;03m# render expects (H,W) or (1,H,W); give it (H,W)\u001b[39;00m\n\u001b[32m---> \u001b[39m\u001b[32m35\u001b[39m \u001b[43mutil\u001b[49m\u001b[43m.\u001b[49m\u001b[43mrender_prediction\u001b[49m\u001b[43m(\u001b[49m\n\u001b[32m     36\u001b[39m \u001b[43m    \u001b[49m\u001b[43mimage\u001b[49m\u001b[43m=\u001b[49m\u001b[43mimage\u001b[49m\u001b[43m.\u001b[49m\u001b[43msqueeze\u001b[49m\u001b[43m(\u001b[49m\u001b[32;43m0\u001b[39;49m\u001b[43m)\u001b[49m\u001b[43m.\u001b[49m\u001b[43msqueeze\u001b[49m\u001b[43m(\u001b[49m\u001b[32;43m0\u001b[39;49m\u001b[43m)\u001b[49m\u001b[43m.\u001b[49m\u001b[43mto\u001b[49m\u001b[43m(\u001b[49m\u001b[33;43m\"\u001b[39;49m\u001b[33;43mcpu\u001b[39;49m\u001b[33;43m\"\u001b[39;49m\u001b[43m)\u001b[49m\u001b[43m,\u001b[49m\n\u001b[32m     37\u001b[39m \u001b[43m    \u001b[49m\u001b[43mpred\u001b[49m\u001b[43m=\u001b[49m\u001b[43mpred\u001b[49m\u001b[43m.\u001b[49m\u001b[43mto\u001b[49m\u001b[43m(\u001b[49m\u001b[33;43m\"\u001b[39;49m\u001b[33;43mcpu\u001b[39;49m\u001b[33;43m\"\u001b[39;49m\u001b[43m)\u001b[49m\u001b[43m,\u001b[49m\n\u001b[32m     38\u001b[39m \u001b[43m    \u001b[49m\u001b[43mobj_thresh\u001b[49m\u001b[43m=\u001b[49m\u001b[43mconf_thr\u001b[49m\u001b[43m,\u001b[49m\n\u001b[32m     39\u001b[39m \u001b[43m    \u001b[49m\u001b[43mout_dir\u001b[49m\u001b[43m=\u001b[49m\u001b[43mout_dir\u001b[49m\u001b[43m,\u001b[49m\n\u001b[32m     40\u001b[39m \u001b[43m    \u001b[49m\u001b[43mname\u001b[49m\u001b[43m=\u001b[49m\u001b[43mos\u001b[49m\u001b[43m.\u001b[49m\u001b[43mpath\u001b[49m\u001b[43m.\u001b[49m\u001b[43mbasename\u001b[49m\u001b[43m(\u001b[49m\u001b[43mfilepath\u001b[49m\u001b[43m)\u001b[49m\u001b[43m.\u001b[49m\u001b[43mreplace\u001b[49m\u001b[43m(\u001b[49m\u001b[33;43m\"\u001b[39;49m\u001b[33;43m.\u001b[39;49m\u001b[33;43m\"\u001b[39;49m\u001b[43m,\u001b[49m\u001b[43m \u001b[49m\u001b[33;43mf\u001b[39;49m\u001b[33;43m\"\u001b[39;49m\u001b[33;43m_thr\u001b[39;49m\u001b[38;5;132;43;01m{\u001b[39;49;00m\u001b[43mconf_thr\u001b[49m\u001b[38;5;132;43;01m}\u001b[39;49;00m\u001b[33;43m.\u001b[39;49m\u001b[33;43m\"\u001b[39;49m\u001b[43m)\u001b[49m\n\u001b[32m     41\u001b[39m \u001b[43m\u001b[49m\u001b[43m)\u001b[49m\n\u001b[32m     42\u001b[39m \u001b[38;5;28mprint\u001b[39m(\u001b[33mf\u001b[39m\u001b[33m\"\u001b[39m\u001b[33mSaved visualization → \u001b[39m\u001b[38;5;132;01m{\u001b[39;00mout_dir\u001b[38;5;132;01m}\u001b[39;00m\u001b[33m\"\u001b[39m)\n",
      "\u001b[31mTypeError\u001b[39m: render_prediction() got an unexpected keyword argument 'pred'"
     ]
    }
   ],
   "source": [
    "import numpy as np\n",
    "from IPython.display import display\n",
    "reload(util)\n",
    "gt_df = util.DataExtractor().croppedData()\n",
    "def demo(series, filepath, conf_thr=0.1):\n",
    "    series.model.eval().to(\"cpu\")\n",
    "\n",
    "    demo_dir = os.path.join(os.getcwd(), \"demo\")\n",
    "    img_path = os.path.join(demo_dir, filepath)\n",
    "    if not os.path.isfile(img_path):\n",
    "        print(f\"File NOT found: {img_path}\")\n",
    "        return\n",
    "    print(f\"Found file: {img_path}  ({os.path.getsize(img_path)} bytes)\")\n",
    "\n",
    "    try:\n",
    "        # unpack tuple from util.load_crop_image\n",
    "        crop_img, *_ = util.load_crop_image(img_path, 0, 0)  # PIL Image\n",
    "        # force grayscale, (H,W)\n",
    "        arr = np.array(crop_img.convert(\"L\"), dtype=np.float32) / 255.0\n",
    "        # -> (1,1,H,W)\n",
    "        image = torch.from_numpy(arr).unsqueeze(0).unsqueeze(0).to(\"cpu\")\n",
    "        print(\"image.shape:\", tuple(image.shape))\n",
    "    except Exception as e:\n",
    "        print(\"error loading the image:\", repr(e))\n",
    "        return\n",
    "\n",
    "    with torch.no_grad():\n",
    "        pred = series.model(image)         # (1,N,N,A,5+C)\n",
    "        pred = pred.squeeze(0)             # (N,N,A,5+C)\n",
    "        pred = eval.logit_to_target(pred)  # decode to (tx,ty,tw,th,obj,...)\n",
    "\n",
    "    out_dir = os.path.join(demo_dir, \"preds\")\n",
    "    os.makedirs(out_dir, exist_ok=True)\n",
    "\n",
    "    # render expects (H,W) or (1,H,W); give it (H,W)\n",
    "    util.render_prediction(\n",
    "        image=image.squeeze(0).squeeze(0).to(\"cpu\"),\n",
    "        pred=pred.to(\"cpu\"),\n",
    "        obj_thresh=conf_thr,\n",
    "        out_dir=out_dir,\n",
    "        name=os.path.basename(filepath).replace(\".\", f\"_thr{conf_thr}.\")\n",
    "    )\n",
    "    print(f\"Saved visualization → {out_dir}\")\n",
    "    \n",
    "series = ms.ModelSeries(name = \"runpod_oneshot_training2\", gt_df = gt_df, mode=\"\")\n",
    "demo(series, r\"images\\aug-emmentaler.png\", conf_thr=0.1)"
   ]
  },
  {
   "cell_type": "code",
   "execution_count": 23,
   "id": "13f6b402",
   "metadata": {},
   "outputs": [
    {
     "name": "stdout",
     "output_type": "stream",
     "text": [
      "Saving to: /workspace/mydir/obb_anns_hausarbeit/ds2_dense/ds2_dense/gt_space.json\n",
      "val-dataset created containing 136 crops\n",
      "ModelSeries: loadJsonData()\n",
      "lateset checkpoint: 219.pth\n",
      "[loadMode] Loaded weights from /workspace/mydir/obb_anns_hausarbeit/models/60@60@2@720/runpod_oneshot_training2/checkpoints/219.pth\n",
      "val-dataset created containing 136 crops\n",
      "debug visualize: len(eval_dataset): 136\n",
      "Visualization saved to /workspace/mydir/obb_anns_hausarbeit/models/60@60@2@720/runpod_oneshot_training2/playground/223\n"
     ]
    }
   ],
   "source": [
    "import ModelSeries as ms\n",
    "de = util.DataExtractor()\n",
    "gt_df = de.croppedData()\n",
    "\n",
    "eval_dataset = d.CroppedDataset(gt_df, mode = \"val\")\n",
    "series = ms.ModelSeries(name = \"runpod_oneshot_training2\", gt_df = gt_df, mode = \"training\")\n",
    "\n",
    "visualize(gt_df, series, conf_thr = 0.07)"
   ]
  },
  {
   "cell_type": "markdown",
   "id": "bce2fe60",
   "metadata": {},
   "source": [
    "# Precision and Recall"
   ]
  },
  {
   "cell_type": "code",
   "execution_count": 19,
   "id": "e88c72f2",
   "metadata": {},
   "outputs": [
    {
     "name": "stdout",
     "output_type": "stream",
     "text": [
      "ModelSeries: loadJsonData()\n",
      "[loadMode] Loaded weights from c:\\Users\\alexh\\Desktop\\cv3\\obb_anns_hausarbeit\\models\\60@20@2@480\\train_with_lr1e-2_tryC\\checkpoints\\57.pth\n",
      "h\n",
      "avg_precision called\n"
     ]
    },
    {
     "name": "stderr",
     "output_type": "stream",
     "text": [
      "c:\\Users\\alexh\\Desktop\\cv3\\obb_anns_hausarbeit\\util.py:361: FutureWarning: You are using `torch.load` with `weights_only=False` (the current default value), which uses the default pickle module implicitly. It is possible to construct malicious pickle data which will execute arbitrary code during unpickling (See https://github.com/pytorch/pytorch/blob/main/SECURITY.md#untrusted-models for more details). In a future release, the default value for `weights_only` will be flipped to `True`. This limits the functions that could be executed during unpickling. Arbitrary objects will no longer be allowed to be loaded via this mode unless they are explicitly allowlisted by the user via `torch.serialization.add_safe_globals`. We recommend you start setting `weights_only=True` for any use case where you don't have full control of the loaded file. Please open an issue on GitHub for any issues related to this experimental feature.\n",
      "  model.load_state_dict(torch.load(path, map_location=device))\n"
     ]
    },
    {
     "name": "stdout",
     "output_type": "stream",
     "text": [
      "avg_precision called\n",
      "avg_precision called\n"
     ]
    },
    {
     "ename": "KeyboardInterrupt",
     "evalue": "",
     "output_type": "error",
     "traceback": [
      "\u001b[1;31m---------------------------------------------------------------------------\u001b[0m",
      "\u001b[1;31mKeyboardInterrupt\u001b[0m                         Traceback (most recent call last)",
      "Cell \u001b[1;32mIn[19], line 13\u001b[0m\n\u001b[0;32m     11\u001b[0m \u001b[38;5;28mprint\u001b[39m(\u001b[38;5;124m\"\u001b[39m\u001b[38;5;124mh\u001b[39m\u001b[38;5;124m\"\u001b[39m)\n\u001b[0;32m     12\u001b[0m \u001b[38;5;28;01mfor\u001b[39;00m i \u001b[38;5;129;01min\u001b[39;00m threshs:\n\u001b[1;32m---> 13\u001b[0m     pr_curve\u001b[38;5;241m.\u001b[39mappend(\u001b[38;5;28;43meval\u001b[39;49m\u001b[38;5;241;43m.\u001b[39;49m\u001b[43mavg_precision_recall\u001b[49m\u001b[43m(\u001b[49m\u001b[43mseries\u001b[49m\u001b[38;5;241;43m.\u001b[39;49m\u001b[43mmodel\u001b[49m\u001b[43m,\u001b[49m\u001b[43m \u001b[49m\u001b[43meval_dataset\u001b[49m\u001b[43m,\u001b[49m\u001b[43m \u001b[49m\u001b[38;5;124;43m\"\u001b[39;49m\u001b[38;5;124;43mcuda\u001b[39;49m\u001b[38;5;124;43m\"\u001b[39;49m\u001b[43m,\u001b[49m\u001b[43m \u001b[49m\u001b[43mn_samples\u001b[49m\u001b[38;5;241;43m=\u001b[39;49m\u001b[38;5;241;43m100\u001b[39;49m\u001b[43m,\u001b[49m\u001b[43m \u001b[49m\u001b[43mconf_thr\u001b[49m\u001b[38;5;241;43m=\u001b[39;49m\u001b[43m \u001b[49m\u001b[43mi\u001b[49m\u001b[43m \u001b[49m\u001b[43m)\u001b[49m)\u001b[38;5;66;03m#mit 200 und len(thresh)=16 dauerts 12 Minuten\u001b[39;00m\n",
      "File \u001b[1;32mc:\\Users\\alexh\\Desktop\\cv3\\obb_anns_hausarbeit\\eval.py:128\u001b[0m, in \u001b[0;36mavg_precision_recall\u001b[1;34m(model, eval_dataset, device, n_samples, conf_thr)\u001b[0m\n\u001b[0;32m    126\u001b[0m tgt \u001b[38;5;241m=\u001b[39m tgt\u001b[38;5;241m.\u001b[39mto(device)\n\u001b[0;32m    127\u001b[0m pred \u001b[38;5;241m=\u001b[39m model\u001b[38;5;241m.\u001b[39mforward(img)\u001b[38;5;241m.\u001b[39msqueeze(\u001b[38;5;241m0\u001b[39m)\n\u001b[1;32m--> 128\u001b[0m pred \u001b[38;5;241m=\u001b[39m \u001b[43mlogit_to_target\u001b[49m\u001b[43m(\u001b[49m\u001b[43mpred\u001b[49m\u001b[43m)\u001b[49m\n\u001b[0;32m    129\u001b[0m iou \u001b[38;5;241m=\u001b[39m pred_to_iou(pred, tgt)\n\u001b[0;32m    130\u001b[0m tp_mask, fp_mask, fn_mask, tgt_conf, pred_cls, tgt_cls \u001b[38;5;241m=\u001b[39m calc_masks(pred, tgt, iou, conf_thr\u001b[38;5;241m=\u001b[39mconf_thr)\n",
      "File \u001b[1;32mc:\\Users\\alexh\\Desktop\\cv3\\obb_anns_hausarbeit\\eval.py:58\u001b[0m, in \u001b[0;36mlogit_to_target\u001b[1;34m(tensor)\u001b[0m\n\u001b[0;32m     55\u001b[0m \u001b[38;5;28;01mdef\u001b[39;00m \u001b[38;5;21mlogit_to_target\u001b[39m(tensor):\n\u001b[0;32m     56\u001b[0m     pred \u001b[38;5;241m=\u001b[39m tensor\u001b[38;5;241m.\u001b[39mclone()\n\u001b[1;32m---> 58\u001b[0m     pred[\u001b[38;5;241m.\u001b[39m\u001b[38;5;241m.\u001b[39m\u001b[38;5;241m.\u001b[39m, [\u001b[38;5;241m0\u001b[39m, \u001b[38;5;241m1\u001b[39m, \u001b[38;5;241m4\u001b[39m]] \u001b[38;5;241m=\u001b[39m \u001b[43mtorch\u001b[49m\u001b[38;5;241;43m.\u001b[39;49m\u001b[43msigmoid\u001b[49m\u001b[43m(\u001b[49m\u001b[43mpred\u001b[49m\u001b[43m[\u001b[49m\u001b[38;5;241;43m.\u001b[39;49m\u001b[38;5;241;43m.\u001b[39;49m\u001b[38;5;241;43m.\u001b[39;49m\u001b[43m,\u001b[49m\u001b[43m \u001b[49m\u001b[43m[\u001b[49m\u001b[38;5;241;43m0\u001b[39;49m\u001b[43m,\u001b[49m\u001b[43m \u001b[49m\u001b[38;5;241;43m1\u001b[39;49m\u001b[43m,\u001b[49m\u001b[43m \u001b[49m\u001b[38;5;241;43m4\u001b[39;49m\u001b[43m]\u001b[49m\u001b[43m]\u001b[49m\u001b[43m)\u001b[49m\n\u001b[0;32m     59\u001b[0m     argmax \u001b[38;5;241m=\u001b[39m torch\u001b[38;5;241m.\u001b[39margmax(pred[\u001b[38;5;241m.\u001b[39m\u001b[38;5;241m.\u001b[39m\u001b[38;5;241m.\u001b[39m, \u001b[38;5;241m5\u001b[39m:], dim\u001b[38;5;241m=\u001b[39m\u001b[38;5;241m-\u001b[39m\u001b[38;5;241m1\u001b[39m)\n\u001b[0;32m     61\u001b[0m     one_hot \u001b[38;5;241m=\u001b[39m torch\u001b[38;5;241m.\u001b[39mzeros_like(pred[\u001b[38;5;241m.\u001b[39m\u001b[38;5;241m.\u001b[39m\u001b[38;5;241m.\u001b[39m, \u001b[38;5;241m5\u001b[39m:])\n",
      "\u001b[1;31mKeyboardInterrupt\u001b[0m: "
     ]
    }
   ],
   "source": [
    "import eval\n",
    "import ModelSeries as ms\n",
    "from importlib import reload\n",
    "reload(eval)\n",
    "series = ms.ModelSeries(name = \"train_with_lr1e-2_tryC\", mode = \"training\")\n",
    "\n",
    "threshs = [0.015, 0.01625, 0.0175, 0.01875, 0.02, 0.04, 0.06, 0.08, 0.09, 0.1, 0.2, 0.3, 0.4, 0.5, 0.6, 0.7, 0.8, 0.9]\n",
    "\n",
    "pr_curve = []\n",
    "pr2_curve = []\n",
    "print(\"h\")\n",
    "for i in threshs:\n",
    "    pr_curve.append(eval.avg_precision_recall(series.model, eval_dataset, \"cuda\", n_samples=100, conf_thr= i ))#mit 200 und len(thresh)=16 dauerts 12 Minuten\n",
    "    \n"
   ]
  },
  {
   "cell_type": "code",
   "execution_count": 41,
   "id": "358417bb",
   "metadata": {},
   "outputs": [
    {
     "name": "stdout",
     "output_type": "stream",
     "text": [
      "avg_precision called\n"
     ]
    }
   ],
   "source": [
    "recall, precision, (tp, fp, fn), (precision_per_cls, recall_per_cls) = eval.avg_precision_recall(series.model, eval_dataset, \"cuda\", n_samples=100, conf_thr= 0.1)"
   ]
  },
  {
   "cell_type": "code",
   "execution_count": 75,
   "id": "440bdc1d",
   "metadata": {},
   "outputs": [
    {
     "name": "stderr",
     "output_type": "stream",
     "text": [
      "C:\\Users\\alexh\\AppData\\Local\\Temp\\ipykernel_20776\\2458015298.py:75: FutureWarning: The behavior of DataFrame concatenation with empty or all-NA entries is deprecated. In a future version, this will no longer exclude empty or all-NA columns when determining the result dtypes. To retain the old behavior, exclude the relevant entries before the concat operation.\n",
      "  self.df = pd.concat([self.df, df_new], ignore_index=True)\n"
     ]
    },
    {
     "data": {
      "text/html": [
       "<div>\n",
       "<style scoped>\n",
       "    .dataframe tbody tr th:only-of-type {\n",
       "        vertical-align: middle;\n",
       "    }\n",
       "\n",
       "    .dataframe tbody tr th {\n",
       "        vertical-align: top;\n",
       "    }\n",
       "\n",
       "    .dataframe thead th {\n",
       "        text-align: right;\n",
       "    }\n",
       "</style>\n",
       "<table border=\"1\" class=\"dataframe\">\n",
       "  <thead>\n",
       "    <tr style=\"text-align: right;\">\n",
       "      <th></th>\n",
       "      <th>class_id</th>\n",
       "      <th>class_name</th>\n",
       "      <th>n_occurences</th>\n",
       "      <th>n_images</th>\n",
       "      <th>epoch</th>\n",
       "      <th>mAP</th>\n",
       "      <th>mREC</th>\n",
       "    </tr>\n",
       "  </thead>\n",
       "  <tbody>\n",
       "    <tr>\n",
       "      <th>0</th>\n",
       "      <td>0</td>\n",
       "      <td>brace</td>\n",
       "      <td>2879</td>\n",
       "      <td>767</td>\n",
       "      <td>7</td>\n",
       "      <td>0.972222</td>\n",
       "      <td>0.972222</td>\n",
       "    </tr>\n",
       "    <tr>\n",
       "      <th>1</th>\n",
       "      <td>1</td>\n",
       "      <td>ledgerLine</td>\n",
       "      <td>88316</td>\n",
       "      <td>1327</td>\n",
       "      <td>7</td>\n",
       "      <td>0.178396</td>\n",
       "      <td>0.140283</td>\n",
       "    </tr>\n",
       "    <tr>\n",
       "      <th>2</th>\n",
       "      <td>2</td>\n",
       "      <td>repeatDot</td>\n",
       "      <td>2786</td>\n",
       "      <td>227</td>\n",
       "      <td>7</td>\n",
       "      <td>0.000000</td>\n",
       "      <td>0.000000</td>\n",
       "    </tr>\n",
       "    <tr>\n",
       "      <th>3</th>\n",
       "      <td>3</td>\n",
       "      <td>segno</td>\n",
       "      <td>231</td>\n",
       "      <td>168</td>\n",
       "      <td>7</td>\n",
       "      <td>1.000000</td>\n",
       "      <td>1.000000</td>\n",
       "    </tr>\n",
       "    <tr>\n",
       "      <th>4</th>\n",
       "      <td>4</td>\n",
       "      <td>coda</td>\n",
       "      <td>225</td>\n",
       "      <td>219</td>\n",
       "      <td>7</td>\n",
       "      <td>1.000000</td>\n",
       "      <td>1.000000</td>\n",
       "    </tr>\n",
       "    <tr>\n",
       "      <th>5</th>\n",
       "      <td>5</td>\n",
       "      <td>clefG</td>\n",
       "      <td>8332</td>\n",
       "      <td>1227</td>\n",
       "      <td>7</td>\n",
       "      <td>0.977528</td>\n",
       "      <td>0.977528</td>\n",
       "    </tr>\n",
       "    <tr>\n",
       "      <th>6</th>\n",
       "      <td>6</td>\n",
       "      <td>clefCAlto</td>\n",
       "      <td>1015</td>\n",
       "      <td>373</td>\n",
       "      <td>7</td>\n",
       "      <td>0.818182</td>\n",
       "      <td>1.000000</td>\n",
       "    </tr>\n",
       "    <tr>\n",
       "      <th>7</th>\n",
       "      <td>7</td>\n",
       "      <td>clefCTenor</td>\n",
       "      <td>614</td>\n",
       "      <td>240</td>\n",
       "      <td>7</td>\n",
       "      <td>1.000000</td>\n",
       "      <td>1.000000</td>\n",
       "    </tr>\n",
       "    <tr>\n",
       "      <th>8</th>\n",
       "      <td>8</td>\n",
       "      <td>clefF</td>\n",
       "      <td>5405</td>\n",
       "      <td>1160</td>\n",
       "      <td>7</td>\n",
       "      <td>0.869565</td>\n",
       "      <td>0.888889</td>\n",
       "    </tr>\n",
       "    <tr>\n",
       "      <th>9</th>\n",
       "      <td>9</td>\n",
       "      <td>clefUnpitchedPercussion</td>\n",
       "      <td>0</td>\n",
       "      <td>0</td>\n",
       "      <td>7</td>\n",
       "      <td>0.000000</td>\n",
       "      <td>0.000000</td>\n",
       "    </tr>\n",
       "    <tr>\n",
       "      <th>10</th>\n",
       "      <td>10</td>\n",
       "      <td>clef8</td>\n",
       "      <td>1101</td>\n",
       "      <td>397</td>\n",
       "      <td>7</td>\n",
       "      <td>0.500000</td>\n",
       "      <td>0.411765</td>\n",
       "    </tr>\n",
       "    <tr>\n",
       "      <th>11</th>\n",
       "      <td>11</td>\n",
       "      <td>clef15</td>\n",
       "      <td>219</td>\n",
       "      <td>51</td>\n",
       "      <td>7</td>\n",
       "      <td>0.666667</td>\n",
       "      <td>0.400000</td>\n",
       "    </tr>\n",
       "    <tr>\n",
       "      <th>12</th>\n",
       "      <td>12</td>\n",
       "      <td>timeSig0</td>\n",
       "      <td>213</td>\n",
       "      <td>26</td>\n",
       "      <td>7</td>\n",
       "      <td>1.000000</td>\n",
       "      <td>1.000000</td>\n",
       "    </tr>\n",
       "    <tr>\n",
       "      <th>13</th>\n",
       "      <td>13</td>\n",
       "      <td>timeSig1</td>\n",
       "      <td>407</td>\n",
       "      <td>48</td>\n",
       "      <td>7</td>\n",
       "      <td>0.000000</td>\n",
       "      <td>0.000000</td>\n",
       "    </tr>\n",
       "    <tr>\n",
       "      <th>14</th>\n",
       "      <td>14</td>\n",
       "      <td>timeSig2</td>\n",
       "      <td>274</td>\n",
       "      <td>64</td>\n",
       "      <td>7</td>\n",
       "      <td>1.000000</td>\n",
       "      <td>0.666667</td>\n",
       "    </tr>\n",
       "    <tr>\n",
       "      <th>15</th>\n",
       "      <td>15</td>\n",
       "      <td>timeSig3</td>\n",
       "      <td>823</td>\n",
       "      <td>124</td>\n",
       "      <td>7</td>\n",
       "      <td>0.750000</td>\n",
       "      <td>0.333333</td>\n",
       "    </tr>\n",
       "    <tr>\n",
       "      <th>16</th>\n",
       "      <td>16</td>\n",
       "      <td>timeSig4</td>\n",
       "      <td>3492</td>\n",
       "      <td>340</td>\n",
       "      <td>7</td>\n",
       "      <td>0.750000</td>\n",
       "      <td>0.818182</td>\n",
       "    </tr>\n",
       "    <tr>\n",
       "      <th>17</th>\n",
       "      <td>17</td>\n",
       "      <td>timeSig5</td>\n",
       "      <td>153</td>\n",
       "      <td>9</td>\n",
       "      <td>7</td>\n",
       "      <td>0.000000</td>\n",
       "      <td>0.000000</td>\n",
       "    </tr>\n",
       "    <tr>\n",
       "      <th>18</th>\n",
       "      <td>18</td>\n",
       "      <td>timeSig6</td>\n",
       "      <td>233</td>\n",
       "      <td>43</td>\n",
       "      <td>7</td>\n",
       "      <td>0.000000</td>\n",
       "      <td>0.000000</td>\n",
       "    </tr>\n",
       "    <tr>\n",
       "      <th>19</th>\n",
       "      <td>19</td>\n",
       "      <td>timeSig7</td>\n",
       "      <td>243</td>\n",
       "      <td>12</td>\n",
       "      <td>7</td>\n",
       "      <td>0.000000</td>\n",
       "      <td>0.000000</td>\n",
       "    </tr>\n",
       "  </tbody>\n",
       "</table>\n",
       "</div>"
      ],
      "text/plain": [
       "   class_id               class_name n_occurences n_images epoch       mAP  \\\n",
       "0         0                    brace         2879      767     7  0.972222   \n",
       "1         1               ledgerLine        88316     1327     7  0.178396   \n",
       "2         2                repeatDot         2786      227     7  0.000000   \n",
       "3         3                    segno          231      168     7  1.000000   \n",
       "4         4                     coda          225      219     7  1.000000   \n",
       "5         5                    clefG         8332     1227     7  0.977528   \n",
       "6         6                clefCAlto         1015      373     7  0.818182   \n",
       "7         7               clefCTenor          614      240     7  1.000000   \n",
       "8         8                    clefF         5405     1160     7  0.869565   \n",
       "9         9  clefUnpitchedPercussion            0        0     7  0.000000   \n",
       "10       10                    clef8         1101      397     7  0.500000   \n",
       "11       11                   clef15          219       51     7  0.666667   \n",
       "12       12                 timeSig0          213       26     7  1.000000   \n",
       "13       13                 timeSig1          407       48     7  0.000000   \n",
       "14       14                 timeSig2          274       64     7  1.000000   \n",
       "15       15                 timeSig3          823      124     7  0.750000   \n",
       "16       16                 timeSig4         3492      340     7  0.750000   \n",
       "17       17                 timeSig5          153        9     7  0.000000   \n",
       "18       18                 timeSig6          233       43     7  0.000000   \n",
       "19       19                 timeSig7          243       12     7  0.000000   \n",
       "\n",
       "        mREC  \n",
       "0   0.972222  \n",
       "1   0.140283  \n",
       "2   0.000000  \n",
       "3   1.000000  \n",
       "4   1.000000  \n",
       "5   0.977528  \n",
       "6   1.000000  \n",
       "7   1.000000  \n",
       "8   0.888889  \n",
       "9   0.000000  \n",
       "10  0.411765  \n",
       "11  0.400000  \n",
       "12  1.000000  \n",
       "13  0.000000  \n",
       "14  0.666667  \n",
       "15  0.333333  \n",
       "16  0.818182  \n",
       "17  0.000000  \n",
       "18  0.000000  \n",
       "19  0.000000  "
      ]
     },
     "execution_count": 75,
     "metadata": {},
     "output_type": "execute_result"
    }
   ],
   "source": [
    "er = EvalRecord(gt_df)\n",
    "er.addEvalRecord(precision_per_cls, recall_per_cls, 7)\n",
    "er.df.head(20)"
   ]
  },
  {
   "cell_type": "code",
   "execution_count": null,
   "id": "b28a06e4",
   "metadata": {},
   "outputs": [],
   "source": [
    "#name of dataset class\n",
    "#recall and precision of class\n",
    "#statistics about the class: how often it occurs in the dataset\n",
    "#in how many images/crops it appears\n",
    "\n",
    "#method to add a precision/recall per class tensor per epoch\n",
    "\n",
    "\n",
    "#dataframe with class_id, class_name, class_occurence, n_class_images, epoch\n",
    "\n",
    "#group dataframe by epoch -> 136 rows\n",
    "#groud dataframe by class_id, sort by class_occurence \n",
    "\n",
    "#function to add the eval.avg_precision_recall output\n",
    "\n",
    "#integrate this class into ModelSeries.records? how?\n",
    "import pandas as pd\n",
    "import config, os, json\n"
   ]
  },
  {
   "cell_type": "code",
   "execution_count": 216,
   "id": "d7174ba4",
   "metadata": {},
   "outputs": [
    {
     "name": "stdout",
     "output_type": "stream",
     "text": [
      "avg_zero, avg_one, avg_two: (346.64, 36.66, 16.7)\n",
      "max_two: [84, 54]\n",
      "avg active in anchor one vs. two: (36.66, 0.0)\n"
     ]
    },
    {
     "data": {
      "text/plain": [
       "(0.5296445518545987, 0.4336593578549934)"
      ]
     },
     "execution_count": 216,
     "metadata": {},
     "output_type": "execute_result"
    }
   ],
   "source": [
    "eval.avg_precision_recall(series.model, eval_dataset, \"cuda\", n_samples=100, conf_thr= 0.1 )"
   ]
  },
  {
   "cell_type": "code",
   "execution_count": 44,
   "id": "77df1ed8",
   "metadata": {},
   "outputs": [
    {
     "data": {
      "text/plain": [
       "[(0.015, (0.43048815301170423, 0.5132743362831859, 3016.0, 2860.0, 3990.0)),\n",
       " (0.01625, (0.4293462746217528, 0.5141880341880342, 3008.0, 2842.0, 3998.0)),\n",
       " (0.0175, (0.42877533542677704, 0.5156196361139719, 3004.0, 2822.0, 4002.0)),\n",
       " (0.01875, (0.42791892663431347, 0.5155631986242476, 2998.0, 2817.0, 4008.0)),\n",
       " (0.02, (0.42749072223808166, 0.517003279820473, 2995.0, 2798.0, 4011.0)),\n",
       " (0.04, (0.41906936911218956, 0.5214920071047957, 2936.0, 2694.0, 4070.0)),\n",
       " (0.06, (0.41021981159006565, 0.5165348670021567, 2874.0, 2690.0, 4132.0)),\n",
       " (0.08, (0.4023693976591493, 0.5093964582580413, 2819.0, 2715.0, 4187.0)),\n",
       " (0.09, (0.39922923208678274, 0.5059696092619392, 2797.0, 2731.0, 4209.0)),\n",
       " (0.1, (0.3959463317156723, 0.5029918404351768, 2774.0, 2741.0, 4232.0)),\n",
       " (0.2, (0.35369683128746787, 0.4553472987872106, 2478.0, 2964.0, 4528.0)),\n",
       " (0.3, (0.30802169568940907, 0.398375484585564, 2158.0, 3259.0, 4848.0)),\n",
       " (0.4, (0.2467884670282615, 0.3202444897203186, 1729.0, 3670.0, 5277.0)),\n",
       " (0.5, (0.1894090779332001, 0.24647102526002973, 1327.0, 4057.0, 5679.0)),\n",
       " (0.6, (0.12760491007707678, 0.16666666666666666, 894.0, 4470.0, 6112.0)),\n",
       " (0.7, (0.07664858692549244, 0.10046772684752105, 537.0, 4808.0, 6469.0)),\n",
       " (0.8, (0.035255495289751644, 0.04640240465902686, 247.0, 5076.0, 6759.0)),\n",
       " (0.9, (0.00642306594347702, 0.008516275548826646, 45.0, 5239.0, 6961.0))]"
      ]
     },
     "execution_count": 44,
     "metadata": {},
     "output_type": "execute_result"
    }
   ],
   "source": [
    "pr_ = [(threshs[i], pr_curve[i]) for i in range(len(threshs))]\n",
    "pr_"
   ]
  },
  {
   "cell_type": "code",
   "execution_count": 34,
   "id": "adc25b19",
   "metadata": {},
   "outputs": [
    {
     "name": "stdout",
     "output_type": "stream",
     "text": [
      "4070.0\n"
     ]
    }
   ],
   "source": [
    "print(pr_[1][1][4])"
   ]
  },
  {
   "cell_type": "code",
   "execution_count": 15,
   "id": "868a7ece",
   "metadata": {},
   "outputs": [
    {
     "ename": "NameError",
     "evalue": "name 'pr_' is not defined",
     "output_type": "error",
     "traceback": [
      "\u001b[31m---------------------------------------------------------------------------\u001b[39m",
      "\u001b[31mNameError\u001b[39m                                 Traceback (most recent call last)",
      "\u001b[36mCell\u001b[39m\u001b[36m \u001b[39m\u001b[32mIn[15]\u001b[39m\u001b[32m, line 4\u001b[39m\n\u001b[32m      1\u001b[39m \u001b[38;5;28;01mimport\u001b[39;00m\u001b[38;5;250m \u001b[39m\u001b[34;01mmatplotlib\u001b[39;00m\u001b[34;01m.\u001b[39;00m\u001b[34;01mpyplot\u001b[39;00m\u001b[38;5;250m \u001b[39m\u001b[38;5;28;01mas\u001b[39;00m\u001b[38;5;250m \u001b[39m\u001b[34;01mplt\u001b[39;00m\n\u001b[32m      2\u001b[39m \u001b[38;5;28;01mimport\u001b[39;00m\u001b[38;5;250m \u001b[39m\u001b[34;01mnumpy\u001b[39;00m\u001b[38;5;250m \u001b[39m\u001b[38;5;28;01mas\u001b[39;00m\u001b[38;5;250m \u001b[39m\u001b[34;01mnp\u001b[39;00m\n\u001b[32m----> \u001b[39m\u001b[32m4\u001b[39m tp, fp, fn = [x[\u001b[32m1\u001b[39m][\u001b[32m2\u001b[39m] \u001b[38;5;28;01mfor\u001b[39;00m x \u001b[38;5;129;01min\u001b[39;00m \u001b[43mpr_\u001b[49m], [x[\u001b[32m1\u001b[39m][\u001b[32m3\u001b[39m] \u001b[38;5;28;01mfor\u001b[39;00m x \u001b[38;5;129;01min\u001b[39;00m pr_], [x[\u001b[32m1\u001b[39m][\u001b[32m4\u001b[39m] \u001b[38;5;28;01mfor\u001b[39;00m x \u001b[38;5;129;01min\u001b[39;00m pr_]\n\u001b[32m      6\u001b[39m plt.figure(figsize=(\u001b[32m6\u001b[39m, \u001b[32m4\u001b[39m))\n\u001b[32m      7\u001b[39m plt.plot(threshs, tp, marker=\u001b[33m'\u001b[39m\u001b[33mo\u001b[39m\u001b[33m'\u001b[39m, markersize = \u001b[32m3\u001b[39m, label=\u001b[33m\"\u001b[39m\u001b[33mTP\u001b[39m\u001b[33m\"\u001b[39m)\n",
      "\u001b[31mNameError\u001b[39m: name 'pr_' is not defined"
     ]
    }
   ],
   "source": [
    "import matplotlib.pyplot as plt\n",
    "import numpy as np\n",
    "\n",
    "tp, fp, fn = [x[1][2] for x in pr_], [x[1][3] for x in pr_], [x[1][4] for x in pr_]\n",
    "\n",
    "plt.figure(figsize=(6, 4))\n",
    "plt.plot(threshs, tp, marker='o', markersize = 3, label=\"TP\")\n",
    "plt.plot(threshs, fp, marker='o', markersize = 3, label=\"FP\")\n",
    "plt.plot(threshs, fn, marker='o', markersize = 3, label = \"FN\")\n",
    "plt.xlabel(\"Conf Thresh\")\n",
    "plt.ylabel(\"Cases\")\n",
    "plt.title(\"Confidence Curves\")\n",
    "plt.grid(True)\n",
    "plt.xticks(np.arange(0, 0.9, step = 0.1))\n",
    "plt.tight_layout()\n",
    "plt.legend()\n",
    "plt.show()"
   ]
  },
  {
   "cell_type": "code",
   "execution_count": 46,
   "id": "ff635685",
   "metadata": {},
   "outputs": [
    {
     "data": {
      "image/png": "[encoded data removed]",
      "text/plain": [
       "<Figure size 600x400 with 1 Axes>"
      ]
     },
     "metadata": {},
     "output_type": "display_data"
    }
   ],
   "source": [
    "precision, recall = [x[1][0] for x in pr_], [x[1][1] for x in pr_]\n",
    "\n",
    "plt.figure(figsize=(6, 4))\n",
    "plt.plot(recall, precision, marker='o', markersize = 3)\n",
    "plt.xlabel(\"Recall\")\n",
    "plt.ylabel(\"Precision\")\n",
    "plt.title(\"Precision-Recall Curve\")\n",
    "plt.grid(True)\n",
    "plt.xticks(np.arange(0, 0.55, step = 0.1))\n",
    "plt.gca().invert_xaxis()\n",
    "plt.tight_layout()\n",
    "plt.show()"
   ]
  },
  {
   "cell_type": "code",
   "execution_count": 47,
   "id": "bee349a7",
   "metadata": {},
   "outputs": [
    {
     "data": {
      "image/png": "[encoded data removed]",
      "text/plain": [
       "<Figure size 640x480 with 1 Axes>"
      ]
     },
     "metadata": {},
     "output_type": "display_data"
    }
   ],
   "source": [
    "import matplotlib.pyplot as plt\n",
    "import numpy as np\n",
    "index, product = [i * 0.1 for i in range(10)], [x[1][1] * x[1][0] for x in pr_]\n",
    "\n",
    "plt.figure()\n",
    "plt.plot(threshs, product, marker='o', markersize = 3)\n",
    "plt.xlabel(\"Confidence Treshold\")\n",
    "plt.ylabel(\"Recall * Precision\")\n",
    "plt.title(\"Precision-Recall Area\")\n",
    "plt.grid(True)\n",
    "plt.tight_layout()\n",
    "plt.xticks(np.arange(0, 0.9, step = 0.1))\n",
    "plt.show()"
   ]
  },
  {
   "cell_type": "markdown",
   "id": "501f040b",
   "metadata": {},
   "source": [
    "# Training Losses"
   ]
  },
  {
   "cell_type": "code",
   "execution_count": 4,
   "id": "0f633b1b-43db-4a4c-8404-3bf3dbd4e77f",
   "metadata": {},
   "outputs": [
    {
     "name": "stdout",
     "output_type": "stream",
     "text": [
      "Saving to: /workspace/mydir/obb_anns_hausarbeit/ds2_dense/ds2_dense/gt_space.json\n"
     ]
    }
   ],
   "source": [
    "import util\n",
    "gt_df = util.DataExtractor().croppedData()"
   ]
  },
  {
   "cell_type": "code",
   "execution_count": 21,
   "id": "0a39dbd7",
   "metadata": {},
   "outputs": [
    {
     "name": "stdout",
     "output_type": "stream",
     "text": [
      "ModelSeries: loadJsonData()\n",
      "210\n"
     ]
    },
    {
     "data": {
      "image/png": "[encoded data removed]",
      "text/plain": [
       "<Figure size 640x480 with 1 Axes>"
      ]
     },
     "metadata": {},
     "output_type": "display_data"
    }
   ],
   "source": [
    "import ModelSeries as ms\n",
    "from IPython.display import HTML, display\n",
    "import matplotlib.pyplot as plt\n",
    "import numpy as np\n",
    "ms = ms.ModelSeries(name = \"runpod_oneshot_training2\", gt_df = gt_df, mode=\"\")\n",
    "records = ms.records.iloc[:]\n",
    "print(len(records))\n",
    "#display(HTML(records[:].to_html()))\n",
    "\n",
    "labels =  \"l_cls, l_noobj, l_xy, l_obj, l_wh, mAP, mREC\".split(\", \")\n",
    "losses = [records[k] for k in labels]\n",
    "epochs = list(range(len(losses[0])))\n",
    "\n",
    "cutoff = 190\n",
    "\n",
    "# plt.figure()\n",
    "for loss, label in zip(losses, labels):\n",
    "    # if label == \"mAP\":\n",
    "    #     loss = [x * 100 for x in loss]\n",
    "    plt.plot(epochs[cutoff:], loss[cutoff:], label = label)\n",
    "plt.xlabel(\"Epochs\")\n",
    "plt.ylabel(\"Loss\")\n",
    "plt.title(\"Loss Per Epoch\")\n",
    "plt.grid(True)\n",
    "plt.tight_layout()\n",
    "plt.legend()\n",
    "plt.show()"
   ]
  }
 ],
 "metadata": {
  "kernelspec": {
   "display_name": "Python 3",
   "language": "python",
   "name": "python3"
  },
  "language_info": {
   "codemirror_mode": {
    "name": "ipython",
    "version": 3
   },
   "file_extension": ".py",
   "mimetype": "text/x-python",
   "name": "python",
   "nbconvert_exporter": "python",
   "pygments_lexer": "ipython3",
   "version": "3.12.4"
  }
 },
 "nbformat": 4,
 "nbformat_minor": 5
}
