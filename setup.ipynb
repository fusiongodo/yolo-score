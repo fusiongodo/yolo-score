{
 "cells": [
  {
   "cell_type": "markdown",
   "id": "86ee4891",
   "metadata": {},
   "source": []
  },
  {
   "cell_type": "markdown",
   "id": "acd4145f",
   "metadata": {},
   "source": [
    "# Download Dataset via personal GDrive folder"
   ]
  },
  {
   "cell_type": "code",
   "execution_count": 2,
   "id": "b95838b3",
   "metadata": {},
   "outputs": [
    {
     "name": "stderr",
     "output_type": "stream",
     "text": [
      "\n",
      "[notice] A new release of pip is available: 25.1.1 -> 25.2\n",
      "[notice] To update, run: python.exe -m pip install --upgrade pip\n"
     ]
    }
   ],
   "source": [
    "!pip install --quiet gdown"
   ]
  },
  {
   "cell_type": "code",
   "execution_count": 8,
   "id": "d7cfe995-e465-4839-ac34-1da6e75dd9c1",
   "metadata": {},
   "outputs": [
    {
     "name": "stderr",
     "output_type": "stream",
     "text": [
      "Downloading...\n",
      "From (original): https://drive.google.com/uc?id=1A_mWCMGIKrAfMNwnEv04mOej5Rijbcgy\n",
      "From (redirected): https://drive.google.com/uc?id=1A_mWCMGIKrAfMNwnEv04mOej5Rijbcgy&confirm=t&uuid=3d6f57a6-97b1-4429-8f31-01e4a60723f7\n",
      "To: c:\\Users\\alexh\\Desktop\\cv4\\obb_anns_hausarbeit\\ds2_dense\\downloaded.zip\n",
      "100%|██████████| 744M/744M [00:32<00:00, 22.5MB/s] \n"
     ]
    },
    {
     "name": "stdout",
     "output_type": "stream",
     "text": [
      "Download and extraction done.\n",
      "zip file deleted\n"
     ]
    }
   ],
   "source": [
    "import gdown, os, zipfile\n",
    "\n",
    "\n",
    "url = \"https://drive.google.com/uc?id=1A_mWCMGIKrAfMNwnEv04mOej5Rijbcgy\"\n",
    "\n",
    "\n",
    "\n",
    "ds2_dir = os.path.join(os.getcwd(), \"ds2_dense\")\n",
    "os.makedirs(ds2_dir, exist_ok = True)\n",
    "\n",
    "compressed = os.path.join(ds2_dir, \"downloaded.zip\") \n",
    "gdown.download(url, compressed, quiet=False)\n",
    "\n",
    "\n",
    "with zipfile.ZipFile(compressed, 'r') as zip_ref:\n",
    "    zip_ref.extractall(ds2_dir)  # change folder if you want\n",
    "\n",
    "print(\"Download and extraction done.\")\n",
    "os.remove(compressed)\n",
    "print(\"Zip file deleted\")\n"
   ]
  },
  {
   "cell_type": "markdown",
   "id": "0b03533a",
   "metadata": {},
   "source": [
    "## Ubuntu Commands\n",
    "execute after boot of runpod.io network volume\n"
   ]
  },
  {
   "cell_type": "code",
   "execution_count": 1,
   "id": "08490e2d-ed87-489e-9065-fcb29c569ac5",
   "metadata": {},
   "outputs": [
    {
     "name": "stdout",
     "output_type": "stream",
     "text": [
      "\u001b[33mWARNING: Running pip as the 'root' user can result in broken permissions and conflicting behaviour with the system package manager, possibly rendering your system unusable. It is recommended to use a virtual environment instead: https://pip.pypa.io/warnings/venv. Use the --root-user-action option if you know what you are doing and want to suppress this warning.\u001b[0m\u001b[33m\n",
      "\u001b[0m\n",
      "\u001b[1m[\u001b[0m\u001b[34;49mnotice\u001b[0m\u001b[1;39;49m]\u001b[0m\u001b[39;49m A new release of pip is available: \u001b[0m\u001b[31;49m25.0.1\u001b[0m\u001b[39;49m -> \u001b[0m\u001b[32;49m25.2\u001b[0m\n",
      "\u001b[1m[\u001b[0m\u001b[34;49mnotice\u001b[0m\u001b[1;39;49m]\u001b[0m\u001b[39;49m To update, run: \u001b[0m\u001b[32;49mpython -m pip install --upgrade pip\u001b[0m\n",
      "\u001b[33mWARNING: Running pip as the 'root' user can result in broken permissions and conflicting behaviour with the system package manager, possibly rendering your system unusable. It is recommended to use a virtual environment instead: https://pip.pypa.io/warnings/venv. Use the --root-user-action option if you know what you are doing and want to suppress this warning.\u001b[0m\u001b[33m\n",
      "\u001b[0m\n",
      "\u001b[1m[\u001b[0m\u001b[34;49mnotice\u001b[0m\u001b[1;39;49m]\u001b[0m\u001b[39;49m A new release of pip is available: \u001b[0m\u001b[31;49m25.0.1\u001b[0m\u001b[39;49m -> \u001b[0m\u001b[32;49m25.2\u001b[0m\n",
      "\u001b[1m[\u001b[0m\u001b[34;49mnotice\u001b[0m\u001b[1;39;49m]\u001b[0m\u001b[39;49m To update, run: \u001b[0m\u001b[32;49mpython -m pip install --upgrade pip\u001b[0m\n",
      "\u001b[33mWARNING: Running pip as the 'root' user can result in broken permissions and conflicting behaviour with the system package manager, possibly rendering your system unusable. It is recommended to use a virtual environment instead: https://pip.pypa.io/warnings/venv. Use the --root-user-action option if you know what you are doing and want to suppress this warning.\u001b[0m\u001b[33m\n",
      "\u001b[0m\n",
      "\u001b[1m[\u001b[0m\u001b[34;49mnotice\u001b[0m\u001b[1;39;49m]\u001b[0m\u001b[39;49m A new release of pip is available: \u001b[0m\u001b[31;49m25.0.1\u001b[0m\u001b[39;49m -> \u001b[0m\u001b[32;49m25.2\u001b[0m\n",
      "\u001b[1m[\u001b[0m\u001b[34;49mnotice\u001b[0m\u001b[1;39;49m]\u001b[0m\u001b[39;49m To update, run: \u001b[0m\u001b[32;49mpython -m pip install --upgrade pip\u001b[0m\n",
      "\u001b[33mWARNING: Running pip as the 'root' user can result in broken permissions and conflicting behaviour with the system package manager, possibly rendering your system unusable. It is recommended to use a virtual environment instead: https://pip.pypa.io/warnings/venv. Use the --root-user-action option if you know what you are doing and want to suppress this warning.\u001b[0m\u001b[33m\n",
      "\u001b[0m\n",
      "\u001b[1m[\u001b[0m\u001b[34;49mnotice\u001b[0m\u001b[1;39;49m]\u001b[0m\u001b[39;49m A new release of pip is available: \u001b[0m\u001b[31;49m25.0.1\u001b[0m\u001b[39;49m -> \u001b[0m\u001b[32;49m25.2\u001b[0m\n",
      "\u001b[1m[\u001b[0m\u001b[34;49mnotice\u001b[0m\u001b[1;39;49m]\u001b[0m\u001b[39;49m To update, run: \u001b[0m\u001b[32;49mpython -m pip install --upgrade pip\u001b[0m\n"
     ]
    }
   ],
   "source": [
    "!git config --global user.email \"alexander.hallmann@stud.hs-flensburg.de\"\n",
    "!git config --global user.name \"alha7503\"\n",
    "!git config --global credential.helper 'cache --timeout=10000'\n",
    "!pip install -q import_ipynb\n",
    "!pip install -q pandas\n",
    "!pip install -q torch\n",
    "!pip install -q matplotlib"
   ]
  }
 ],
 "metadata": {
  "kernelspec": {
   "display_name": "Python 3",
   "language": "python",
   "name": "python3"
  },
  "language_info": {
   "codemirror_mode": {
    "name": "ipython",
    "version": 3
   },
   "file_extension": ".py",
   "mimetype": "text/x-python",
   "name": "python",
   "nbconvert_exporter": "python",
   "pygments_lexer": "ipython3",
   "version": "3.10.11"
  }
 },
 "nbformat": 4,
 "nbformat_minor": 5
}
