{
 "cells": [
  {
   "cell_type": "markdown",
   "id": "d52bbba3",
   "metadata": {},
   "source": [
    "# Dataset Profiling"
   ]
  },
  {
   "cell_type": "code",
   "execution_count": 1,
   "id": "ca770491",
   "metadata": {},
   "outputs": [
    {
     "name": "stdout",
     "output_type": "stream",
     "text": [
      "Saving to: c:\\Users\\alexh\\Desktop\\cv4\\obb_anns_hausarbeit\\ds2_dense\\ds2_dense\\gt_space.json\n",
      "number of images: 1362\n",
      "number of annotations: 875337\n",
      "avg number of annotations per image: 642.6850220264317\n",
      "number of classes: 114\n"
     ]
    },
    {
     "data": {
      "image/png": "[encoded data removed]",
      "text/plain": [
       "<Figure size 1500x400 with 1 Axes>"
      ]
     },
     "metadata": {},
     "output_type": "display_data"
    }
   ],
   "source": [
    "import util, eval\n",
    "import pandas as pd\n",
    "\n",
    "de = util.DataExtractor()\n",
    "gt_df = de.croppedData()\n",
    "\n",
    "classes = eval.classReport(gt_df)"
   ]
  },
  {
   "cell_type": "markdown",
   "id": "ddd0d410",
   "metadata": {},
   "source": [
    "# Model Per-Class Performance"
   ]
  },
  {
   "cell_type": "code",
   "execution_count": 2,
   "id": "4b559e07",
   "metadata": {},
   "outputs": [
    {
     "data": {
      "text/html": [
       "<div>\n",
       "<style scoped>\n",
       "    .dataframe tbody tr th:only-of-type {\n",
       "        vertical-align: middle;\n",
       "    }\n",
       "\n",
       "    .dataframe tbody tr th {\n",
       "        vertical-align: top;\n",
       "    }\n",
       "\n",
       "    .dataframe thead th {\n",
       "        text-align: right;\n",
       "    }\n",
       "</style>\n",
       "<table border=\"1\" class=\"dataframe\">\n",
       "  <thead>\n",
       "    <tr style=\"text-align: right;\">\n",
       "      <th></th>\n",
       "      <th>class_id</th>\n",
       "      <th>count</th>\n",
       "      <th>name</th>\n",
       "      <th>n_images</th>\n",
       "      <th>%_images</th>\n",
       "      <th>epoch</th>\n",
       "      <th>mAP</th>\n",
       "      <th>mREC</th>\n",
       "    </tr>\n",
       "  </thead>\n",
       "  <tbody>\n",
       "    <tr>\n",
       "      <th>0</th>\n",
       "      <td>41</td>\n",
       "      <td>235695</td>\n",
       "      <td>stem</td>\n",
       "      <td>1347</td>\n",
       "      <td>98.898678</td>\n",
       "      <td>100</td>\n",
       "      <td>0.057569</td>\n",
       "      <td>0.047023</td>\n",
       "    </tr>\n",
       "    <tr>\n",
       "      <th>1</th>\n",
       "      <td>24</td>\n",
       "      <td>125497</td>\n",
       "      <td>noteheadBlackOnLine</td>\n",
       "      <td>1344</td>\n",
       "      <td>98.678414</td>\n",
       "      <td>100</td>\n",
       "      <td>0.442213</td>\n",
       "      <td>0.308992</td>\n",
       "    </tr>\n",
       "    <tr>\n",
       "      <th>2</th>\n",
       "      <td>26</td>\n",
       "      <td>125410</td>\n",
       "      <td>noteheadBlackInSpace</td>\n",
       "      <td>1344</td>\n",
       "      <td>98.678414</td>\n",
       "      <td>100</td>\n",
       "      <td>0.521332</td>\n",
       "      <td>0.369398</td>\n",
       "    </tr>\n",
       "    <tr>\n",
       "      <th>3</th>\n",
       "      <td>1</td>\n",
       "      <td>88316</td>\n",
       "      <td>ledgerLine</td>\n",
       "      <td>1327</td>\n",
       "      <td>97.430250</td>\n",
       "      <td>100</td>\n",
       "      <td>0.076485</td>\n",
       "      <td>0.062510</td>\n",
       "    </tr>\n",
       "    <tr>\n",
       "      <th>4</th>\n",
       "      <td>121</td>\n",
       "      <td>69016</td>\n",
       "      <td>beam</td>\n",
       "      <td>1277</td>\n",
       "      <td>93.759178</td>\n",
       "      <td>100</td>\n",
       "      <td>0.258973</td>\n",
       "      <td>0.252675</td>\n",
       "    </tr>\n",
       "    <tr>\n",
       "      <th>5</th>\n",
       "      <td>40</td>\n",
       "      <td>18723</td>\n",
       "      <td>augmentationDot</td>\n",
       "      <td>1046</td>\n",
       "      <td>76.798825</td>\n",
       "      <td>100</td>\n",
       "      <td>0.094079</td>\n",
       "      <td>0.077131</td>\n",
       "    </tr>\n",
       "    <tr>\n",
       "      <th>7</th>\n",
       "      <td>30</td>\n",
       "      <td>11297</td>\n",
       "      <td>noteheadHalfInSpace</td>\n",
       "      <td>934</td>\n",
       "      <td>68.575624</td>\n",
       "      <td>100</td>\n",
       "      <td>0.351981</td>\n",
       "      <td>0.256367</td>\n",
       "    </tr>\n",
       "    <tr>\n",
       "      <th>14</th>\n",
       "      <td>5</td>\n",
       "      <td>8332</td>\n",
       "      <td>clefG</td>\n",
       "      <td>1227</td>\n",
       "      <td>90.088106</td>\n",
       "      <td>100</td>\n",
       "      <td>0.831081</td>\n",
       "      <td>0.985577</td>\n",
       "    </tr>\n",
       "    <tr>\n",
       "      <th>28</th>\n",
       "      <td>0</td>\n",
       "      <td>2879</td>\n",
       "      <td>brace</td>\n",
       "      <td>767</td>\n",
       "      <td>56.314244</td>\n",
       "      <td>100</td>\n",
       "      <td>0.781116</td>\n",
       "      <td>0.910000</td>\n",
       "    </tr>\n",
       "  </tbody>\n",
       "</table>\n",
       "</div>"
      ],
      "text/plain": [
       "    class_id   count                  name  n_images   %_images  epoch  \\\n",
       "0         41  235695                  stem      1347  98.898678    100   \n",
       "1         24  125497   noteheadBlackOnLine      1344  98.678414    100   \n",
       "2         26  125410  noteheadBlackInSpace      1344  98.678414    100   \n",
       "3          1   88316            ledgerLine      1327  97.430250    100   \n",
       "4        121   69016                  beam      1277  93.759178    100   \n",
       "5         40   18723       augmentationDot      1046  76.798825    100   \n",
       "7         30   11297   noteheadHalfInSpace       934  68.575624    100   \n",
       "14         5    8332                 clefG      1227  90.088106    100   \n",
       "28         0    2879                 brace       767  56.314244    100   \n",
       "\n",
       "         mAP      mREC  \n",
       "0   0.057569  0.047023  \n",
       "1   0.442213  0.308992  \n",
       "2   0.521332  0.369398  \n",
       "3   0.076485  0.062510  \n",
       "4   0.258973  0.252675  \n",
       "5   0.094079  0.077131  \n",
       "7   0.351981  0.256367  \n",
       "14  0.831081  0.985577  \n",
       "28  0.781116  0.910000  "
      ]
     },
     "execution_count": 2,
     "metadata": {},
     "output_type": "execute_result"
    }
   ],
   "source": [
    "out = pd.concat([classes.iloc[0:6], classes.iloc[7:8], classes.iloc[14:15], classes.iloc[[28]]])\n",
    "out.head(9)"
   ]
  }
 ],
 "metadata": {
  "kernelspec": {
   "display_name": "Python 3",
   "language": "python",
   "name": "python3"
  },
  "language_info": {
   "codemirror_mode": {
    "name": "ipython",
    "version": 3
   },
   "file_extension": ".py",
   "mimetype": "text/x-python",
   "name": "python",
   "nbconvert_exporter": "python",
   "pygments_lexer": "ipython3",
   "version": "3.10.11"
  }
 },
 "nbformat": 4,
 "nbformat_minor": 5
}
