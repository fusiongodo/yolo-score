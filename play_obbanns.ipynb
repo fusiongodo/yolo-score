{
 "cells": [
  {
   "cell_type": "code",
   "execution_count": 11,
   "id": "b2772e40",
   "metadata": {},
   "outputs": [],
   "source": [
    "from torchvision.io import read_image\n",
    "from torchvision.transforms.functional import crop, resize, rgb_to_grayscale\n",
    "from torch.utils.data import IterableDataset\n",
    "import itertools\n",
    "from obb_anns import OBBAnns\n",
    "from pathlib import Path\n",
    "import json\n",
    "filepath = r\"C:\\Users\\alexh\\Desktop\\ComputerVision\\Hausarbeit\\deepscores_v2_dense\\ds2_dense\\deepscores_train.json\"\n",
    "basePath = r\"C:\\Users\\alexh\\Desktop\\ComputerVision\\Hausarbeit\\deepscores_v2_dense\\ds2_dense\\images\\\\\" \n",
    "\n",
    "\n",
    "def to_grayscale(tensor):\n",
    "    # tensor: [C, H, W] mit C=3 → gibt [1, H, W] zurück\n",
    "    return rgb_to_grayscale(tensor, num_output_channels=1)\n",
    "\n",
    "class SymbolCropStreamer(IterableDataset):\n",
    "    def __init__(self,target_size=(64, 64), transform=None):\n",
    "        self.data = []\n",
    "        with open(filepath, 'r') as f:\n",
    "            self.data = json.load(f)\n",
    "            \n",
    "        self.o = OBBAnns(filepath)\n",
    "        self.o.load_annotations()\n",
    "        self.img_index = 0\n",
    "        self.ann_index = 0\n",
    "        self.img , self.current_anns = self.o.get_img_ann_pair([0])\n",
    "        self.current_src_img = None\n",
    "        self.load_first()\n",
    "        self.target_size = target_size\n",
    "        self.transform = transform\n",
    "\n",
    "    def load_first(self):\n",
    "        self.img, self.current_anns = self.o.get_img_ann_pair([self.img_index])\n",
    "        img_path = Path(basePath) / self.img[0][\"filename\"]\n",
    "        self.current_src_img = read_image(img_path).float() / 255\n",
    "\n",
    "    def load_next(self):\n",
    "        self.img_index += 1\n",
    "        if self.img_index >= len(self.o):\n",
    "            return False\n",
    "        self.ann_index = 0\n",
    "        self.img, self.current_anns = self.o.get_img_ann_pair([self.img_index])\n",
    "        img_path = Path(basePath) / self.img[0][\"filename\"]\n",
    "        self.current_src_img = read_image(img_path).float() / 255\n",
    "        return True\n",
    "    \n",
    "    def get_bounding_box_cat(self):\n",
    "        bb, cat = self.current_anns[0][\"a_bbox\"].values[self.ann_index], self.current_anns[0][\"cat_id\"].values[self.ann_index]\n",
    "        if cat[0] == 135:\n",
    "            print(\"staff line\")\n",
    "            self.ann_index +=1\n",
    "            if self.ann_index >= len(self.current_anns[0]):\n",
    "                r = self.load_next()\n",
    "                if not r:\n",
    "                    return False\n",
    "            return self.get_bounding_box_cat()\n",
    "        return bb, cat\n",
    "        \n",
    "\n",
    "    \n",
    "\n",
    "    def __iter__(self):\n",
    "        while self.img_index < len(self.o):\n",
    "            if self.ann_index >= len(self.current_anns[0]):\n",
    "                r = self.load_next()\n",
    "                if not r:\n",
    "                    break\n",
    "            bounding_box, cat = self.get_bounding_box_cat()#Rekursion einführen\n",
    "            x, y, x1, y1 = map(int, bounding_box)\n",
    "            patch = crop(self.current_src_img, top=y, left=x, height=y1 - y, width=x1 - x)\n",
    "            patch = resize(patch, self.target_size)\n",
    "            if self.transform:\n",
    "                patch = self.transform(patch)\n",
    "            self.ann_index += 1\n",
    "            yield patch, cat\n"
   ]
  },
  {
   "cell_type": "code",
   "execution_count": 16,
   "id": "285655cb",
   "metadata": {},
   "outputs": [],
   "source": [
    "import matplotlib.pyplot as plt\n",
    "\n",
    "def plot_img(patch, cat):\n",
    "    print(f\"Patch shape:\", patch.shape)  # z.B. torch.Size([3, 28, 28])\n",
    "\n",
    "    # 2) Auf [H, W, C] permuten und als NumPy holen\n",
    "    img = patch.squeeze(0).cpu().numpy()\n",
    "\n",
    "    # 3) Figure-Größe festlegen, damit das Bild nicht rein-scrollt\n",
    "    plt.figure(figsize=(4, 4))\n",
    "    # 4) Ganze Pixel anzeigen (interpolation='none' oder 'nearest' geht beides)\n",
    "    plt.imshow(img, interpolation='nearest')\n",
    "    plt.title(f\"Category {cat}\", fontsize=10)\n",
    "    plt.axis(\"off\")\n",
    "    plt.tight_layout()\n",
    "    plt.show()"
   ]
  },
  {
   "cell_type": "code",
   "execution_count": 13,
   "id": "efb8fc19",
   "metadata": {},
   "outputs": [
    {
     "name": "stdout",
     "output_type": "stream",
     "text": [
      "loading ann_info...\n",
      "done! t=4.96s\n",
      "<class 'torch.utils.data.dataloader.DataLoader'>\n"
     ]
    }
   ],
   "source": [
    "# dataloader = SymbolCropStreamer()\n",
    "from torch.utils.data import DataLoader\n",
    "\n",
    "def createDataloader():\n",
    "    dataset = SymbolCropStreamer(target_size=(28, 28), transform=to_grayscale)\n",
    "    dataloader = DataLoader(\n",
    "        dataset,\n",
    "        batch_size=32,        # z.B. 32 Patches pro Batch\n",
    "        num_workers=0,        # Anzahl Worker‐Prozesse (je nach CPU-Kernen anpassen)\n",
    "        pin_memory=True       # bei GPU-Training oft sinnvoll\n",
    "    )\n",
    "    return dataloader\n",
    "\n",
    "dataloader = createDataloader()\n",
    "\n",
    "print(type(dataloader))  "
   ]
  },
  {
   "cell_type": "code",
   "execution_count": 17,
   "id": "416f239b",
   "metadata": {},
   "outputs": [
    {
     "name": "stdout",
     "output_type": "stream",
     "text": [
      "<class 'torch.Tensor'>\n",
      "<class 'list'>\n",
      "Patch shape: torch.Size([1, 28, 28])\n"
     ]
    },
    {
     "data": {
      "image/png": "[encoded data removed]",
      "text/plain": [
       "<Figure size 400x400 with 1 Axes>"
      ]
     },
     "metadata": {},
     "output_type": "display_data"
    },
    {
     "name": "stdout",
     "output_type": "stream",
     "text": [
      "Patch shape: torch.Size([1, 28, 28])\n"
     ]
    },
    {
     "data": {
      "image/png": "[encoded data removed]",
      "text/plain": [
       "<Figure size 400x400 with 1 Axes>"
      ]
     },
     "metadata": {},
     "output_type": "display_data"
    },
    {
     "name": "stdout",
     "output_type": "stream",
     "text": [
      "staff line\n",
      "staff line\n",
      "<class 'torch.Tensor'>\n",
      "<class 'list'>\n"
     ]
    }
   ],
   "source": [
    "for n, (batch_patches, batch_cats) in  enumerate(dataloader):\n",
    "    print(type(batch_patches))\n",
    "    print(type(batch_cats))\n",
    "    if(n >= 1):\n",
    "        break\n",
    "    for i in range(len(batch_cats)):\n",
    "        plot_img(batch_patches[i], batch_cats[i])"
   ]
  },
  {
   "cell_type": "code",
   "execution_count": 5,
   "id": "44d97fbe",
   "metadata": {},
   "outputs": [
    {
     "name": "stdout",
     "output_type": "stream",
     "text": [
      "loading ann_info...\n",
      "done! t=6.58s\n",
      "[135, 208] <class 'int'>\n",
      "staff line\n",
      "[2, 138] <class 'int'>\n",
      "Patch 0 shape: torch.Size([3, 3, 30])\n"
     ]
    },
    {
     "data": {
      "image/png": "[encoded data removed]",
      "text/plain": [
       "<Figure size 400x400 with 1 Axes>"
      ]
     },
     "metadata": {},
     "output_type": "display_data"
    },
    {
     "name": "stdout",
     "output_type": "stream",
     "text": [
      "[2, 138] <class 'int'>\n",
      "Patch 1 shape: torch.Size([3, 3, 31])\n"
     ]
    },
    {
     "data": {
      "image/png": "[encoded data removed]",
      "text/plain": [
       "<Figure size 400x400 with 1 Axes>"
      ]
     },
     "metadata": {},
     "output_type": "display_data"
    },
    {
     "name": "stdout",
     "output_type": "stream",
     "text": [
      "[2, 138] <class 'int'>\n",
      "Patch 2 shape: torch.Size([3, 3, 30])\n"
     ]
    },
    {
     "data": {
      "image/png": "[encoded data removed]",
      "text/plain": [
       "<Figure size 400x400 with 1 Axes>"
      ]
     },
     "metadata": {},
     "output_type": "display_data"
    },
    {
     "name": "stdout",
     "output_type": "stream",
     "text": [
      "[2, 138] <class 'int'>\n",
      "Patch 3 shape: torch.Size([3, 3, 31])\n"
     ]
    },
    {
     "data": {
      "image/png": "[encoded data removed]",
      "text/plain": [
       "<Figure size 400x400 with 1 Axes>"
      ]
     },
     "metadata": {},
     "output_type": "display_data"
    },
    {
     "name": "stdout",
     "output_type": "stream",
     "text": [
      "[2, 138] <class 'int'>\n",
      "Patch 4 shape: torch.Size([3, 3, 30])\n"
     ]
    },
    {
     "data": {
      "image/png": "[encoded data removed]",
      "text/plain": [
       "<Figure size 400x400 with 1 Axes>"
      ]
     },
     "metadata": {},
     "output_type": "display_data"
    },
    {
     "name": "stdout",
     "output_type": "stream",
     "text": [
      "[2, 138] <class 'int'>\n",
      "Patch 5 shape: torch.Size([3, 3, 31])\n"
     ]
    },
    {
     "data": {
      "image/png": "[encoded data removed]",
      "text/plain": [
       "<Figure size 400x400 with 1 Axes>"
      ]
     },
     "metadata": {},
     "output_type": "display_data"
    },
    {
     "name": "stdout",
     "output_type": "stream",
     "text": [
      "[2, 138] <class 'int'>\n",
      "Patch 6 shape: torch.Size([3, 2, 44])\n"
     ]
    },
    {
     "data": {
      "image/png": "[encoded data removed]",
      "text/plain": [
       "<Figure size 400x400 with 1 Axes>"
      ]
     },
     "metadata": {},
     "output_type": "display_data"
    },
    {
     "name": "stdout",
     "output_type": "stream",
     "text": [
      "[2, 138] <class 'int'>\n",
      "Patch 7 shape: torch.Size([3, 3, 44])\n"
     ]
    },
    {
     "data": {
      "image/png": "[encoded data removed]",
      "text/plain": [
       "<Figure size 400x400 with 1 Axes>"
      ]
     },
     "metadata": {},
     "output_type": "display_data"
    },
    {
     "name": "stdout",
     "output_type": "stream",
     "text": [
      "[2, 138] <class 'int'>\n",
      "Patch 8 shape: torch.Size([3, 2, 44])\n"
     ]
    },
    {
     "data": {
      "image/png": "[encoded data removed]",
      "text/plain": [
       "<Figure size 400x400 with 1 Axes>"
      ]
     },
     "metadata": {},
     "output_type": "display_data"
    },
    {
     "name": "stdout",
     "output_type": "stream",
     "text": [
      "[2, 138] <class 'int'>\n",
      "Patch 9 shape: torch.Size([3, 3, 44])\n"
     ]
    },
    {
     "data": {
      "image/png": "[encoded data removed]",
      "text/plain": [
       "<Figure size 400x400 with 1 Axes>"
      ]
     },
     "metadata": {},
     "output_type": "display_data"
    },
    {
     "name": "stdout",
     "output_type": "stream",
     "text": [
      "[2, 138] <class 'int'>\n"
     ]
    }
   ],
   "source": [
    "import matplotlib.pyplot as plt\n",
    "\n",
    "dataloader = SymbolCropStreamer()\n",
    "\n",
    "def plot_img(patch, cat):\n",
    "    print(f\"Patch {n} shape:\", patch.shape)  # z.B. torch.Size([3, 28, 28])\n",
    "\n",
    "    # 2) Auf [H, W, C] permuten und als NumPy holen\n",
    "    img = patch.permute(1, 2, 0).cpu().numpy()\n",
    "\n",
    "    # 3) Figure-Größe festlegen, damit das Bild nicht rein-scrollt\n",
    "    plt.figure(figsize=(4, 4))\n",
    "    # 4) Ganze Pixel anzeigen (interpolation='none' oder 'nearest' geht beides)\n",
    "    plt.imshow(img, interpolation='nearest')\n",
    "    plt.title(f\"Category {cat}\", fontsize=10)\n",
    "    plt.axis(\"off\")\n",
    "    plt.tight_layout()\n",
    "    plt.show()\n",
    "\n",
    "\n",
    "for n, (patch, cat) in enumerate(dataloader):\n",
    "    if n >= 10:\n",
    "        break\n",
    "    # 1) Form prüfen (sollte [C, H, W] sein)\n",
    "    plot_img(patch, cat)"
   ]
  }
 ],
 "metadata": {
  "kernelspec": {
   "display_name": "Python 3",
   "language": "python",
   "name": "python3"
  },
  "language_info": {
   "codemirror_mode": {
    "name": "ipython",
    "version": 3
   },
   "file_extension": ".py",
   "mimetype": "text/x-python",
   "name": "python",
   "nbconvert_exporter": "python",
   "pygments_lexer": "ipython3",
   "version": "3.12.4"
  }
 },
 "nbformat": 4,
 "nbformat_minor": 5
}
